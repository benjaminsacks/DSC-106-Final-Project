{
 "cells": [
  {
   "cell_type": "markdown",
   "id": "fcab998d",
   "metadata": {},
   "source": [
    "### Purpose of this notebook\n",
    "\n",
    "Though it is not required in the requirements, it is easier to allow others to follow by giving a guidance of what the process of subsetting the hate.csv did. This notebook serve particularly to provide that guidance.\n",
    "\n",
    "### Onboarding\n",
    "We would use pandas to read the csv and perform the subset process."
   ]
  },
  {
   "cell_type": "code",
   "execution_count": 1,
   "id": "4f8abf36",
   "metadata": {},
   "outputs": [],
   "source": [
    "import pandas as pd\n",
    "original_hate = pd.read_csv(\"hate_crime.csv\", low_memory=False)"
   ]
  },
  {
   "cell_type": "code",
   "execution_count": 105,
   "id": "dee42d87",
   "metadata": {},
   "outputs": [
    {
     "data": {
      "text/html": [
       "<div>\n",
       "<style scoped>\n",
       "    .dataframe tbody tr th:only-of-type {\n",
       "        vertical-align: middle;\n",
       "    }\n",
       "\n",
       "    .dataframe tbody tr th {\n",
       "        vertical-align: top;\n",
       "    }\n",
       "\n",
       "    .dataframe thead th {\n",
       "        text-align: right;\n",
       "    }\n",
       "</style>\n",
       "<table border=\"1\" class=\"dataframe\">\n",
       "  <thead>\n",
       "    <tr style=\"text-align: right;\">\n",
       "      <th></th>\n",
       "      <th>INCIDENT_ID</th>\n",
       "      <th>DATA_YEAR</th>\n",
       "      <th>ORI</th>\n",
       "      <th>PUB_AGENCY_NAME</th>\n",
       "      <th>PUB_AGENCY_UNIT</th>\n",
       "      <th>AGENCY_TYPE_NAME</th>\n",
       "      <th>STATE_ABBR</th>\n",
       "      <th>STATE_NAME</th>\n",
       "      <th>DIVISION_NAME</th>\n",
       "      <th>REGION_NAME</th>\n",
       "      <th>...</th>\n",
       "      <th>OFFENDER_RACE</th>\n",
       "      <th>OFFENDER_ETHNICITY</th>\n",
       "      <th>VICTIM_COUNT</th>\n",
       "      <th>OFFENSE_NAME</th>\n",
       "      <th>TOTAL_INDIVIDUAL_VICTIMS</th>\n",
       "      <th>LOCATION_NAME</th>\n",
       "      <th>BIAS_DESC</th>\n",
       "      <th>VICTIM_TYPES</th>\n",
       "      <th>MULTIPLE_OFFENSE</th>\n",
       "      <th>MULTIPLE_BIAS</th>\n",
       "    </tr>\n",
       "  </thead>\n",
       "  <tbody>\n",
       "    <tr>\n",
       "      <th>0</th>\n",
       "      <td>3015</td>\n",
       "      <td>1991</td>\n",
       "      <td>AR0040200</td>\n",
       "      <td>Rogers</td>\n",
       "      <td>NaN</td>\n",
       "      <td>City</td>\n",
       "      <td>AR</td>\n",
       "      <td>Arkansas</td>\n",
       "      <td>West South Central</td>\n",
       "      <td>South</td>\n",
       "      <td>...</td>\n",
       "      <td>White</td>\n",
       "      <td>NaN</td>\n",
       "      <td>1</td>\n",
       "      <td>Intimidation</td>\n",
       "      <td>1.0</td>\n",
       "      <td>Highway/Road/Alley/Street/Sidewalk</td>\n",
       "      <td>Anti-Black or African American</td>\n",
       "      <td>Individual</td>\n",
       "      <td>S</td>\n",
       "      <td>S</td>\n",
       "    </tr>\n",
       "    <tr>\n",
       "      <th>1</th>\n",
       "      <td>3016</td>\n",
       "      <td>1991</td>\n",
       "      <td>AR0290100</td>\n",
       "      <td>Hope</td>\n",
       "      <td>NaN</td>\n",
       "      <td>City</td>\n",
       "      <td>AR</td>\n",
       "      <td>Arkansas</td>\n",
       "      <td>West South Central</td>\n",
       "      <td>South</td>\n",
       "      <td>...</td>\n",
       "      <td>Black or African American</td>\n",
       "      <td>NaN</td>\n",
       "      <td>1</td>\n",
       "      <td>Simple Assault</td>\n",
       "      <td>1.0</td>\n",
       "      <td>Highway/Road/Alley/Street/Sidewalk</td>\n",
       "      <td>Anti-White</td>\n",
       "      <td>Individual</td>\n",
       "      <td>S</td>\n",
       "      <td>S</td>\n",
       "    </tr>\n",
       "    <tr>\n",
       "      <th>2</th>\n",
       "      <td>43</td>\n",
       "      <td>1991</td>\n",
       "      <td>AR0350100</td>\n",
       "      <td>Pine Bluff</td>\n",
       "      <td>NaN</td>\n",
       "      <td>City</td>\n",
       "      <td>AR</td>\n",
       "      <td>Arkansas</td>\n",
       "      <td>West South Central</td>\n",
       "      <td>South</td>\n",
       "      <td>...</td>\n",
       "      <td>Black or African American</td>\n",
       "      <td>NaN</td>\n",
       "      <td>1</td>\n",
       "      <td>Aggravated Assault</td>\n",
       "      <td>1.0</td>\n",
       "      <td>Residence/Home</td>\n",
       "      <td>Anti-Black or African American</td>\n",
       "      <td>Individual</td>\n",
       "      <td>S</td>\n",
       "      <td>S</td>\n",
       "    </tr>\n",
       "    <tr>\n",
       "      <th>3</th>\n",
       "      <td>44</td>\n",
       "      <td>1991</td>\n",
       "      <td>AR0350100</td>\n",
       "      <td>Pine Bluff</td>\n",
       "      <td>NaN</td>\n",
       "      <td>City</td>\n",
       "      <td>AR</td>\n",
       "      <td>Arkansas</td>\n",
       "      <td>West South Central</td>\n",
       "      <td>South</td>\n",
       "      <td>...</td>\n",
       "      <td>Black or African American</td>\n",
       "      <td>NaN</td>\n",
       "      <td>2</td>\n",
       "      <td>Aggravated Assault;Destruction/Damage/Vandalis...</td>\n",
       "      <td>1.0</td>\n",
       "      <td>Highway/Road/Alley/Street/Sidewalk</td>\n",
       "      <td>Anti-White</td>\n",
       "      <td>Individual</td>\n",
       "      <td>M</td>\n",
       "      <td>S</td>\n",
       "    </tr>\n",
       "    <tr>\n",
       "      <th>4</th>\n",
       "      <td>3017</td>\n",
       "      <td>1991</td>\n",
       "      <td>AR0350100</td>\n",
       "      <td>Pine Bluff</td>\n",
       "      <td>NaN</td>\n",
       "      <td>City</td>\n",
       "      <td>AR</td>\n",
       "      <td>Arkansas</td>\n",
       "      <td>West South Central</td>\n",
       "      <td>South</td>\n",
       "      <td>...</td>\n",
       "      <td>Black or African American</td>\n",
       "      <td>NaN</td>\n",
       "      <td>1</td>\n",
       "      <td>Aggravated Assault</td>\n",
       "      <td>1.0</td>\n",
       "      <td>Service/Gas Station</td>\n",
       "      <td>Anti-White</td>\n",
       "      <td>Individual</td>\n",
       "      <td>S</td>\n",
       "      <td>S</td>\n",
       "    </tr>\n",
       "  </tbody>\n",
       "</table>\n",
       "<p>5 rows × 28 columns</p>\n",
       "</div>"
      ],
      "text/plain": [
       "   INCIDENT_ID  DATA_YEAR        ORI PUB_AGENCY_NAME PUB_AGENCY_UNIT  \\\n",
       "0         3015       1991  AR0040200          Rogers             NaN   \n",
       "1         3016       1991  AR0290100            Hope             NaN   \n",
       "2           43       1991  AR0350100      Pine Bluff             NaN   \n",
       "3           44       1991  AR0350100      Pine Bluff             NaN   \n",
       "4         3017       1991  AR0350100      Pine Bluff             NaN   \n",
       "\n",
       "  AGENCY_TYPE_NAME STATE_ABBR STATE_NAME       DIVISION_NAME REGION_NAME  ...  \\\n",
       "0             City         AR   Arkansas  West South Central       South  ...   \n",
       "1             City         AR   Arkansas  West South Central       South  ...   \n",
       "2             City         AR   Arkansas  West South Central       South  ...   \n",
       "3             City         AR   Arkansas  West South Central       South  ...   \n",
       "4             City         AR   Arkansas  West South Central       South  ...   \n",
       "\n",
       "               OFFENDER_RACE OFFENDER_ETHNICITY VICTIM_COUNT  \\\n",
       "0                      White                NaN            1   \n",
       "1  Black or African American                NaN            1   \n",
       "2  Black or African American                NaN            1   \n",
       "3  Black or African American                NaN            2   \n",
       "4  Black or African American                NaN            1   \n",
       "\n",
       "                                        OFFENSE_NAME  \\\n",
       "0                                       Intimidation   \n",
       "1                                     Simple Assault   \n",
       "2                                 Aggravated Assault   \n",
       "3  Aggravated Assault;Destruction/Damage/Vandalis...   \n",
       "4                                 Aggravated Assault   \n",
       "\n",
       "   TOTAL_INDIVIDUAL_VICTIMS                       LOCATION_NAME  \\\n",
       "0                       1.0  Highway/Road/Alley/Street/Sidewalk   \n",
       "1                       1.0  Highway/Road/Alley/Street/Sidewalk   \n",
       "2                       1.0                      Residence/Home   \n",
       "3                       1.0  Highway/Road/Alley/Street/Sidewalk   \n",
       "4                       1.0                 Service/Gas Station   \n",
       "\n",
       "                        BIAS_DESC  VICTIM_TYPES MULTIPLE_OFFENSE MULTIPLE_BIAS  \n",
       "0  Anti-Black or African American    Individual                S             S  \n",
       "1                      Anti-White    Individual                S             S  \n",
       "2  Anti-Black or African American    Individual                S             S  \n",
       "3                      Anti-White    Individual                M             S  \n",
       "4                      Anti-White    Individual                S             S  \n",
       "\n",
       "[5 rows x 28 columns]"
      ]
     },
     "execution_count": 105,
     "metadata": {},
     "output_type": "execute_result"
    }
   ],
   "source": [
    "original_hate.head()"
   ]
  },
  {
   "cell_type": "code",
   "execution_count": 6,
   "id": "2291c2b9",
   "metadata": {},
   "outputs": [
    {
     "data": {
      "text/plain": [
       "(201403, 28)"
      ]
     },
     "execution_count": 6,
     "metadata": {},
     "output_type": "execute_result"
    }
   ],
   "source": [
    "original_hate.shape"
   ]
  },
  {
   "cell_type": "markdown",
   "id": "54ee2d9c",
   "metadata": {},
   "source": [
    "We could tell that the number of tuples in this dataset maybe too much for a browser to handle. Also, 28 columns means that some of the columns maybe irrelavant to our analysis.\n",
    "\n",
    "Where, our focus of our analysis is shown below:\n",
    " - Explore the trend of frequency of hate crimes since 1991 (Line Plot, tooltip implemented for checking a value of a point)\n",
    " - Explore the types of hate crimes and race of offenders and victims that are most common (Stacked Bar\n",
    "    Graph, selection of offenders and victims done by a radio button, use mouseover to highlight the area that the user's mouse is on)\n",
    " - Explore the average count of offenders aggregated by city against the average counts of victims aggregated by city(Scatterplot)\n",
    " - Explore the count of the juvenile offenders and the regions when they commit the hate crime (Box Plot)\n",
    " - Explore how the race of the persecutor of a hate crime relates to the race of the victim of a hate crime (Heatmap)\n",
    " - Explore where hate crimes occur in the United States in a state level(Choropleth, use mouseover to highlight the area that the user's mouse is on)\n",
    " \n",
    "Thus, we would need data on \n",
    " - count of hate crime, year of hate crime\n",
    " - victim race, offender race, type of hate crime\n",
    " - age for the victims\n",
    " - age of the offenders, sex of the offenders\n",
    " - race of the persecutor, and race of the victim\n",
    " - state of hate crime"
   ]
  },
  {
   "cell_type": "markdown",
   "id": "f5774a09",
   "metadata": {},
   "source": [
    "Thus, we would need\n",
    " - VICTIM_COUNT, DATA_YEAR\n",
    " - OFFENDER_RACE, VICTIM_RACE, OFFENSE_TYPE\n",
    " - PUB_AGENCY_NAME, VICTIM_COUNT, TOTAL_OFFENDER_COUNT\n",
    " - REGION_NAME, JUVENILE_OFFENDER_COUNT\n",
    " - OFFENDER_RACE, VICTIM_RACE\n",
    " - STATE_NAME"
   ]
  },
  {
   "cell_type": "code",
   "execution_count": 10,
   "id": "bbfe1c61",
   "metadata": {
    "scrolled": true
   },
   "outputs": [
    {
     "data": {
      "text/plain": [
       "Index(['INCIDENT_ID', 'DATA_YEAR', 'ORI', 'PUB_AGENCY_NAME', 'PUB_AGENCY_UNIT',\n",
       "       'AGENCY_TYPE_NAME', 'STATE_ABBR', 'STATE_NAME', 'DIVISION_NAME',\n",
       "       'REGION_NAME', 'POPULATION_GROUP_CODE', 'POPULATION_GROUP_DESC',\n",
       "       'INCIDENT_DATE', 'ADULT_VICTIM_COUNT', 'JUVENILE_VICTIM_COUNT',\n",
       "       'TOTAL_OFFENDER_COUNT', 'ADULT_OFFENDER_COUNT',\n",
       "       'JUVENILE_OFFENDER_COUNT', 'OFFENDER_RACE', 'OFFENDER_ETHNICITY',\n",
       "       'VICTIM_COUNT', 'OFFENSE_NAME', 'TOTAL_INDIVIDUAL_VICTIMS',\n",
       "       'LOCATION_NAME', 'BIAS_DESC', 'VICTIM_TYPES', 'MULTIPLE_OFFENSE',\n",
       "       'MULTIPLE_BIAS'],\n",
       "      dtype='object')"
      ]
     },
     "execution_count": 10,
     "metadata": {},
     "output_type": "execute_result"
    }
   ],
   "source": [
    "original_hate.columns"
   ]
  },
  {
   "cell_type": "code",
   "execution_count": 16,
   "id": "e511e7c2",
   "metadata": {},
   "outputs": [
    {
     "data": {
      "text/plain": [
       "1      170319\n",
       "2       22979\n",
       "3        4562\n",
       "4        1853\n",
       "5         659\n",
       "6         411\n",
       "7         140\n",
       "8         121\n",
       "10        120\n",
       "9          64\n",
       "12         31\n",
       "11         21\n",
       "14         20\n",
       "13         12\n",
       "15         11\n",
       "20         10\n",
       "16          8\n",
       "19          5\n",
       "25          5\n",
       "50          4\n",
       "17          4\n",
       "22          4\n",
       "30          4\n",
       "40          3\n",
       "24          3\n",
       "18          3\n",
       "23          2\n",
       "29          2\n",
       "80          2\n",
       "27          2\n",
       "100         2\n",
       "41          2\n",
       "33          1\n",
       "200         1\n",
       "75          1\n",
       "47          1\n",
       "21          1\n",
       "26          1\n",
       "45          1\n",
       "28          1\n",
       "31          1\n",
       "52          1\n",
       "90          1\n",
       "58          1\n",
       "147         1\n",
       "48          1\n",
       "42          1\n",
       "Name: VICTIM_COUNT, dtype: int64"
      ]
     },
     "execution_count": 16,
     "metadata": {},
     "output_type": "execute_result"
    }
   ],
   "source": [
    "original_hate.VICTIM_COUNT.value_counts()"
   ]
  },
  {
   "cell_type": "code",
   "execution_count": 21,
   "id": "1c6b6168",
   "metadata": {},
   "outputs": [
    {
     "data": {
      "text/plain": [
       "<AxesSubplot:xlabel='VICTIM_COUNT', ylabel='TOTAL_OFFENDER_COUNT'>"
      ]
     },
     "execution_count": 21,
     "metadata": {},
     "output_type": "execute_result"
    },
    {
     "data": {
      "image/png": "[encoded data removed]",
      "text/plain": [
       "<Figure size 432x288 with 1 Axes>"
      ]
     },
     "metadata": {
      "needs_background": "light"
     },
     "output_type": "display_data"
    }
   ],
   "source": [
    "original_hate.groupby(\"PUB_AGENCY_NAME\").mean().plot(kind=\"scatter\", y=\"TOTAL_OFFENDER_COUNT\", x = \"VICTIM_COUNT\")"
   ]
  },
  {
   "cell_type": "code",
   "execution_count": 6,
   "id": "2b9f36e1",
   "metadata": {},
   "outputs": [
    {
     "data": {
      "text/plain": [
       "<AxesSubplot:xlabel='VICTIM_COUNT', ylabel='TOTAL_OFFENDER_COUNT'>"
      ]
     },
     "execution_count": 6,
     "metadata": {},
     "output_type": "execute_result"
    },
    {
     "data": {
      "image/png": "[encoded data removed]",
      "text/plain": [
       "<Figure size 432x288 with 1 Axes>"
      ]
     },
     "metadata": {
      "needs_background": "light"
     },
     "output_type": "display_data"
    }
   ],
   "source": [
    "original_hate.plot.scatter(x=\"VICTIM_COUNT\", y=\"TOTAL_OFFENDER_COUNT\")"
   ]
  },
  {
   "cell_type": "code",
   "execution_count": 120,
   "id": "072bf826",
   "metadata": {
    "scrolled": true
   },
   "outputs": [
    {
     "data": {
      "text/plain": [
       "0         NaN\n",
       "1         NaN\n",
       "2         NaN\n",
       "3         NaN\n",
       "4         NaN\n",
       "         ... \n",
       "201398    0.0\n",
       "201399    0.0\n",
       "201400    0.0\n",
       "201401    0.0\n",
       "201402    0.0\n",
       "Name: JUVENILE_VICTIM_COUNT, Length: 201403, dtype: float64"
      ]
     },
     "execution_count": 120,
     "metadata": {},
     "output_type": "execute_result"
    }
   ],
   "source": [
    "original_hate[\"JUVENILE_VICTIM_COUNT\"]"
   ]
  },
  {
   "cell_type": "code",
   "execution_count": 17,
   "id": "413a4704",
   "metadata": {},
   "outputs": [],
   "source": [
    "hate_2020 = pd.read_csv(\"hate_crime_2020.csv\", low_memory= False)"
   ]
  },
  {
   "cell_type": "code",
   "execution_count": 20,
   "id": "7eb9fcce",
   "metadata": {
    "scrolled": true
   },
   "outputs": [
    {
     "data": {
      "text/plain": [
       "Index(['INCIDENT_ID', 'DATA_YEAR', 'ORI', 'PUB_AGENCY_NAME', 'PUB_AGENCY_UNIT',\n",
       "       'AGENCY_TYPE_NAME', 'STATE_ABBR', 'STATE_NAME', 'DIVISION_NAME',\n",
       "       'REGION_NAME', 'POPULATION_GROUP_CODE', 'POPULATION_GROUP_DESC',\n",
       "       'INCIDENT_DATE', 'ADULT_VICTIM_COUNT', 'JUVENILE_VICTIM_COUNT',\n",
       "       'TOTAL_OFFENDER_COUNT', 'ADULT_OFFENDER_COUNT',\n",
       "       'JUVENILE_OFFENDER_COUNT', 'OFFENDER_RACE', 'OFFENDER_ETHNICITY',\n",
       "       'VICTIM_COUNT', 'OFFENSE_NAME', 'TOTAL_INDIVIDUAL_VICTIMS',\n",
       "       'LOCATION_NAME', 'BIAS_DESC', 'VICTIM_TYPES', 'MULTIPLE_OFFENSE',\n",
       "       'MULTIPLE_BIAS'],\n",
       "      dtype='object')"
      ]
     },
     "execution_count": 20,
     "metadata": {},
     "output_type": "execute_result"
    }
   ],
   "source": [
    "hate_2020.columns"
   ]
  },
  {
   "cell_type": "code",
   "execution_count": 21,
   "id": "d6b06f6a",
   "metadata": {},
   "outputs": [
    {
     "data": {
      "text/plain": [
       "Index(['INCIDENT_ID', 'DATA_YEAR', 'ORI', 'PUB_AGENCY_NAME', 'PUB_AGENCY_UNIT',\n",
       "       'AGENCY_TYPE_NAME', 'STATE_ABBR', 'STATE_NAME', 'DIVISION_NAME',\n",
       "       'REGION_NAME', 'POPULATION_GROUP_CODE', 'POPULATION_GROUP_DESC',\n",
       "       'INCIDENT_DATE', 'ADULT_VICTIM_COUNT', 'JUVENILE_VICTIM_COUNT',\n",
       "       'TOTAL_OFFENDER_COUNT', 'ADULT_OFFENDER_COUNT',\n",
       "       'JUVENILE_OFFENDER_COUNT', 'OFFENDER_RACE', 'OFFENDER_ETHNICITY',\n",
       "       'VICTIM_COUNT', 'OFFENSE_NAME', 'TOTAL_INDIVIDUAL_VICTIMS',\n",
       "       'LOCATION_NAME', 'BIAS_DESC', 'VICTIM_TYPES', 'MULTIPLE_OFFENSE',\n",
       "       'MULTIPLE_BIAS'],\n",
       "      dtype='object')"
      ]
     },
     "execution_count": 21,
     "metadata": {},
     "output_type": "execute_result"
    }
   ],
   "source": [
    "original_hate.columns"
   ]
  },
  {
   "cell_type": "code",
   "execution_count": 25,
   "id": "0336a36c",
   "metadata": {
    "scrolled": false
   },
   "outputs": [
    {
     "data": {
      "text/plain": [
       "array(['Anti-Black or African American', 'Anti-White', 'Anti-Jewish',\n",
       "       'Anti-Arab', 'Anti-Protestant', 'Anti-Other Religion',\n",
       "       'Anti-Islamic (Muslim)', 'Anti-Gay (Male)', 'Anti-Asian',\n",
       "       'Anti-Catholic', 'Anti-Heterosexual', 'Anti-Hispanic or Latino',\n",
       "       'Anti-Other Race/Ethnicity/Ancestry',\n",
       "       'Anti-Multiple Religions, Group', 'Anti-Multiple Races, Group',\n",
       "       'Anti-Lesbian (Female)',\n",
       "       'Anti-Lesbian, Gay, Bisexual, or Transgender (Mixed Group)',\n",
       "       'Anti-American Indian or Alaska Native',\n",
       "       'Anti-Gay (Male);Anti-White',\n",
       "       'Anti-Black or African American;Anti-Jewish',\n",
       "       'Anti-Black or African American;Anti-Lesbian (Female)',\n",
       "       'Anti-Black or African American;Anti-Gay (Male)',\n",
       "       'Anti-Black or African American;Anti-White',\n",
       "       'Anti-Atheism/Agnosticism', 'Anti-Gay (Male);Anti-Jewish',\n",
       "       'Anti-Bisexual', 'Anti-Hispanic or Latino;Anti-White',\n",
       "       'Anti-Hispanic or Latino;Anti-Multiple Races, Group',\n",
       "       'Anti-American Indian or Alaska Native;Anti-Hispanic or Latino',\n",
       "       'Anti-Black or African American;Anti-Gay (Male);Anti-White',\n",
       "       'Anti-Asian;Anti-Gay (Male)',\n",
       "       'Anti-Multiple Races, Group;Anti-Other Race/Ethnicity/Ancestry',\n",
       "       'Anti-Physical Disability',\n",
       "       'Anti-Lesbian (Female);Anti-Lesbian, Gay, Bisexual, or Transgender (Mixed Group)',\n",
       "       'Anti-Mental Disability',\n",
       "       'Anti-Asian;Anti-Other Race/Ethnicity/Ancestry',\n",
       "       'Anti-Black or African American;Anti-Hispanic or Latino',\n",
       "       'Anti-Black or African American;Anti-Other Race/Ethnicity/Ancestry',\n",
       "       'Anti-Black or African American;Anti-Multiple Races, Group',\n",
       "       'Anti-Jewish;Anti-Lesbian, Gay, Bisexual, or Transgender (Mixed Group)',\n",
       "       'Anti-Lesbian (Female);Anti-White',\n",
       "       'Anti-Other Race/Ethnicity/Ancestry;Anti-White',\n",
       "       'Anti-Heterosexual;Anti-Lesbian, Gay, Bisexual, or Transgender (Mixed Group)',\n",
       "       'Anti-Multiple Religions, Group;Anti-Other Religion',\n",
       "       'Anti-Jewish;Anti-White', 'Anti-Arab;Anti-Hispanic or Latino',\n",
       "       'Anti-Asian;Anti-Black or African American',\n",
       "       'Anti-American Indian or Alaska Native;Anti-Islamic (Muslim)',\n",
       "       'Anti-American Indian or Alaska Native;Anti-Asian',\n",
       "       'Anti-Black or African American;Anti-Protestant',\n",
       "       'Anti-American Indian or Alaska Native;Anti-Black or African American',\n",
       "       'Anti-Jewish;Anti-Multiple Races, Group',\n",
       "       'Anti-Jewish;Anti-Multiple Religions, Group',\n",
       "       'Anti-Jewish;Anti-Other Race/Ethnicity/Ancestry',\n",
       "       'Anti-Gay (Male);Anti-Lesbian, Gay, Bisexual, or Transgender (Mixed Group)',\n",
       "       'Anti-Hispanic or Latino;Anti-Other Race/Ethnicity/Ancestry',\n",
       "       'Anti-Gay (Male);Anti-Other Race/Ethnicity/Ancestry',\n",
       "       'Anti-Multiple Races, Group;Anti-Other Religion',\n",
       "       'Anti-Gay (Male);Anti-Multiple Races, Group',\n",
       "       'Anti-Other Religion;Anti-Protestant',\n",
       "       'Anti-Islamic (Muslim);Anti-Jewish',\n",
       "       'Anti-Lesbian, Gay, Bisexual, or Transgender (Mixed Group);Anti-White',\n",
       "       'Anti-Bisexual;Anti-Heterosexual', 'Anti-Gender Non-Conforming',\n",
       "       'Anti-Female', 'Anti-Islamic (Muslim);Anti-Other Religion',\n",
       "       'Anti-Black or African American;Anti-Islamic (Muslim)',\n",
       "       'Anti-Transgender', 'Anti-Bisexual;Anti-Black or African American',\n",
       "       'Anti-Gay (Male);Anti-Lesbian (Female)',\n",
       "       'Anti-Native Hawaiian or Other Pacific Islander',\n",
       "       'Anti-Gay (Male);Anti-Mental Disability',\n",
       "       'Anti-Gay (Male);Anti-Islamic (Muslim)', 'Anti-Male',\n",
       "       'Anti-Multiple Races, Group;Anti-Multiple Religions, Group',\n",
       "       'Anti-Black or African American;Anti-Lesbian, Gay, Bisexual, or Transgender (Mixed Group)',\n",
       "       'Anti-Mental Disability;Anti-Physical Disability',\n",
       "       'Anti-Other Race/Ethnicity/Ancestry;Anti-Other Religion',\n",
       "       'Anti-Multiple Religions, Group;Anti-Protestant',\n",
       "       'Anti-Black or African American;Anti-Jewish;Anti-White',\n",
       "       \"Anti-Jehovah's Witness\", 'Anti-Mormon', 'Anti-Buddhist',\n",
       "       'Anti-Sikh', 'Anti-Other Christian', 'Anti-Hindu',\n",
       "       'Anti-Asian;Anti-Atheism/Agnosticism',\n",
       "       'Anti-Eastern Orthodox (Russian, Greek, Other)',\n",
       "       'Anti-Arab;Anti-Black or African American',\n",
       "       'Anti-Catholic;Anti-Jewish',\n",
       "       'Anti-Lesbian, Gay, Bisexual, or Transgender (Mixed Group);Anti-Physical Disability',\n",
       "       'Anti-Bisexual;Anti-Gay (Male)', 'Anti-Other Religion;Anti-White',\n",
       "       'Anti-Asian;Anti-Female',\n",
       "       'Anti-Jewish;Anti-Lesbian (Female);Anti-White',\n",
       "       'Anti-Black or African American;Anti-Hispanic or Latino;Anti-Multiple Races, Group;Anti-White',\n",
       "       'Anti-Islamic (Muslim);Anti-Lesbian, Gay, Bisexual, or Transgender (Mixed Group)',\n",
       "       'Anti-Gay (Male);Anti-Transgender',\n",
       "       'Anti-Hispanic or Latino;Anti-Jewish',\n",
       "       'Anti-Gay (Male);Anti-Physical Disability',\n",
       "       'Anti-Lesbian (Female);Anti-Other Religion',\n",
       "       'Anti-Gay (Male);Anti-Lesbian (Female);Anti-Lesbian, Gay, Bisexual, or Transgender (Mixed Group)',\n",
       "       'Anti-Arab;Anti-Black or African American;Anti-Islamic (Muslim)',\n",
       "       'Anti-Arab;Anti-Hispanic or Latino;Anti-Islamic (Muslim)',\n",
       "       'Anti-Arab;Anti-Islamic (Muslim)', 'Anti-Female;Anti-Gay (Male)',\n",
       "       'Anti-Asian;Anti-Hispanic or Latino',\n",
       "       'Anti-Islamic (Muslim);Anti-Multiple Races, Group',\n",
       "       'Anti-Arab;Anti-Multiple Races, Group',\n",
       "       'Anti-Black or African American;Anti-Other Religion',\n",
       "       'Anti-Multiple Races, Group;Anti-White',\n",
       "       'Anti-Physical Disability;Anti-White',\n",
       "       'Anti-Black or African American;Anti-Jewish;Anti-Multiple Races, Group',\n",
       "       'Anti-Black or African American;Anti-Transgender',\n",
       "       'Anti-Transgender;Anti-White',\n",
       "       'Anti-Multiple Religions, Group;Anti-Transgender',\n",
       "       'Anti-Jewish;Anti-Transgender', 'Anti-Female;Anti-White',\n",
       "       'Anti-Female;Anti-Mental Disability',\n",
       "       'Anti-Gay (Male);Anti-Heterosexual',\n",
       "       'Anti-Catholic;Anti-Protestant',\n",
       "       'Anti-Mental Disability;Anti-Other Race/Ethnicity/Ancestry',\n",
       "       'Anti-Black or African American;Anti-Mental Disability',\n",
       "       'Anti-Male;Anti-Native Hawaiian or Other Pacific Islander',\n",
       "       'Anti-Arab;Anti-Asian;Anti-Black or African American',\n",
       "       'Anti-Asian;Anti-Islamic (Muslim)',\n",
       "       'Anti-Hispanic or Latino;Anti-Male',\n",
       "       'Anti-Black or African American;Anti-Jewish;Anti-Lesbian, Gay, Bisexual, or Transgender (Mixed Group)',\n",
       "       'Anti-Black or African American;Anti-Jewish;Anti-Multiple Races, Group;Anti-Multiple Religions, Group',\n",
       "       'Anti-Jewish;Anti-Multiple Races, Group;Anti-Multiple Religions, Group',\n",
       "       'Anti-Hispanic or Latino;Anti-Lesbian, Gay, Bisexual, or Transgender (Mixed Group)',\n",
       "       'Anti-Male;Anti-White', 'Anti-Jewish;Anti-Lesbian (Female)',\n",
       "       'Anti-Lesbian, Gay, Bisexual, or Transgender (Mixed Group);Anti-Multiple Races, Group',\n",
       "       'Anti-Female;Anti-Mental Disability;Anti-White',\n",
       "       'Anti-Male;Anti-Multiple Races, Group;Anti-White',\n",
       "       'Anti-Asian;Anti-White',\n",
       "       'Anti-Black or African American;Anti-Lesbian, Gay, Bisexual, or Transgender (Mixed Group);Anti-Transgender',\n",
       "       'Anti-Black or African American;Anti-Gay (Male);Anti-Lesbian (Female)',\n",
       "       \"Unknown (offender's motivation not known)\",\n",
       "       'Anti-Gay (Male);Anti-Male',\n",
       "       'Anti-Black or African American;Anti-Gay (Male);Anti-Jewish',\n",
       "       'Anti-American Indian or Alaska Native;Anti-White',\n",
       "       'Anti-Asian;Anti-Multiple Races, Group'], dtype=object)"
      ]
     },
     "execution_count": 25,
     "metadata": {},
     "output_type": "execute_result"
    }
   ],
   "source": [
    "original_hate['BIAS_DESC'].unique()"
   ]
  },
  {
   "cell_type": "code",
   "execution_count": 107,
   "id": "a14d29a4",
   "metadata": {},
   "outputs": [],
   "source": [
    "original_hate[\"Offense\"] = original_hate['OFFENSE_NAME'].str.split(\";\").str[0].str.split(\" \").str[-1]"
   ]
  },
  {
   "cell_type": "code",
   "execution_count": 113,
   "id": "514d50ed",
   "metadata": {
    "scrolled": false
   },
   "outputs": [
    {
     "name": "stderr",
     "output_type": "stream",
     "text": [
      "/var/folders/51/64d5lv_53rx716ghj8z3q13c0000gn/T/ipykernel_12424/2012499392.py:2: SettingWithCopyWarning: \n",
      "A value is trying to be set on a copy of a slice from a DataFrame\n",
      "\n",
      "See the caveats in the documentation: https://pandas.pydata.org/pandas-docs/stable/user_guide/indexing.html#returning-a-view-versus-a-copy\n",
      "  original_hate[\"Offense\"][(original_hate[\"Offense\"] != first3offense[0]) &\n"
     ]
    }
   ],
   "source": [
    "first3offense = list(original_hate[\"Offense\"].value_counts()[0:3].index)\n",
    "original_hate[\"Offense\"][(original_hate[\"Offense\"] != first3offense[0]) & \n",
    "              (original_hate[\"Offense\"] != first3offense[1]) & \n",
    "              (original_hate[\"Offense\"] != first3offense[2])] = \"Others\""
   ]
  },
  {
   "cell_type": "code",
   "execution_count": 109,
   "id": "182f6d5f",
   "metadata": {
    "scrolled": false
   },
   "outputs": [
    {
     "data": {
      "text/plain": [
       "['Property', 'Assault', 'Intimidation']"
      ]
     },
     "execution_count": 109,
     "metadata": {},
     "output_type": "execute_result"
    }
   ],
   "source": [
    "first3offense"
   ]
  },
  {
   "cell_type": "code",
   "execution_count": 114,
   "id": "0f2afe24",
   "metadata": {},
   "outputs": [
    {
     "data": {
      "text/plain": [
       "Property        64768\n",
       "Assault         60837\n",
       "Intimidation    59771\n",
       "Others          16027\n",
       "Name: Offense, dtype: int64"
      ]
     },
     "execution_count": 114,
     "metadata": {},
     "output_type": "execute_result"
    }
   ],
   "source": [
    "original_hate.Offense.value_counts()"
   ]
  }
 ],
 "metadata": {
  "kernelspec": {
   "display_name": "Python 3 (ipykernel)",
   "language": "python",
   "name": "python3"
  },
  "language_info": {
   "codemirror_mode": {
    "name": "ipython",
    "version": 3
   },
   "file_extension": ".py",
   "mimetype": "text/x-python",
   "name": "python",
   "nbconvert_exporter": "python",
   "pygments_lexer": "ipython3",
   "version": "3.9.7"
  }
 },
 "nbformat": 4,
 "nbformat_minor": 5
}
