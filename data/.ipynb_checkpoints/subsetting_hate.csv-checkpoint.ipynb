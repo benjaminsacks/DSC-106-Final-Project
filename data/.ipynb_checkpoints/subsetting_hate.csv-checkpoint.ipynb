{
 "cells": [
  {
   "cell_type": "markdown",
   "id": "fcab998d",
   "metadata": {},
   "source": [
    "### Purpose of this notebook\n",
    "\n",
    "Though it is not required in the requirements, it is easier to allow others to follow by giving a guidance of what the process of subsetting the hate.csv did. This notebook serve particularly to provide that guidance.\n",
    "\n",
    "### Onboarding\n",
    "We would use pandas to read the csv and perform the subset process."
   ]
  },
  {
   "cell_type": "code",
   "execution_count": 31,
   "id": "4f8abf36",
   "metadata": {},
   "outputs": [],
   "source": [
    "import pandas as pd\n",
    "original_hate = pd.read_csv(\"hate_crime.csv\", low_memory=False)"
   ]
  },
  {
   "cell_type": "code",
   "execution_count": 32,
   "id": "dee42d87",
   "metadata": {},
   "outputs": [
    {
     "data": {
      "text/html": [
       "<div>\n",
       "<style scoped>\n",
       "    .dataframe tbody tr th:only-of-type {\n",
       "        vertical-align: middle;\n",
       "    }\n",
       "\n",
       "    .dataframe tbody tr th {\n",
       "        vertical-align: top;\n",
       "    }\n",
       "\n",
       "    .dataframe thead th {\n",
       "        text-align: right;\n",
       "    }\n",
       "</style>\n",
       "<table border=\"1\" class=\"dataframe\">\n",
       "  <thead>\n",
       "    <tr style=\"text-align: right;\">\n",
       "      <th></th>\n",
       "      <th>INCIDENT_ID</th>\n",
       "      <th>DATA_YEAR</th>\n",
       "      <th>ORI</th>\n",
       "      <th>PUB_AGENCY_NAME</th>\n",
       "      <th>PUB_AGENCY_UNIT</th>\n",
       "      <th>AGENCY_TYPE_NAME</th>\n",
       "      <th>STATE_ABBR</th>\n",
       "      <th>STATE_NAME</th>\n",
       "      <th>DIVISION_NAME</th>\n",
       "      <th>REGION_NAME</th>\n",
       "      <th>...</th>\n",
       "      <th>OFFENDER_RACE</th>\n",
       "      <th>OFFENDER_ETHNICITY</th>\n",
       "      <th>VICTIM_COUNT</th>\n",
       "      <th>OFFENSE_NAME</th>\n",
       "      <th>TOTAL_INDIVIDUAL_VICTIMS</th>\n",
       "      <th>LOCATION_NAME</th>\n",
       "      <th>BIAS_DESC</th>\n",
       "      <th>VICTIM_TYPES</th>\n",
       "      <th>MULTIPLE_OFFENSE</th>\n",
       "      <th>MULTIPLE_BIAS</th>\n",
       "    </tr>\n",
       "  </thead>\n",
       "  <tbody>\n",
       "    <tr>\n",
       "      <th>0</th>\n",
       "      <td>3015</td>\n",
       "      <td>1991</td>\n",
       "      <td>AR0040200</td>\n",
       "      <td>Rogers</td>\n",
       "      <td>NaN</td>\n",
       "      <td>City</td>\n",
       "      <td>AR</td>\n",
       "      <td>Arkansas</td>\n",
       "      <td>West South Central</td>\n",
       "      <td>South</td>\n",
       "      <td>...</td>\n",
       "      <td>White</td>\n",
       "      <td>NaN</td>\n",
       "      <td>1</td>\n",
       "      <td>Intimidation</td>\n",
       "      <td>1.0</td>\n",
       "      <td>Highway/Road/Alley/Street/Sidewalk</td>\n",
       "      <td>Anti-Black or African American</td>\n",
       "      <td>Individual</td>\n",
       "      <td>S</td>\n",
       "      <td>S</td>\n",
       "    </tr>\n",
       "    <tr>\n",
       "      <th>1</th>\n",
       "      <td>3016</td>\n",
       "      <td>1991</td>\n",
       "      <td>AR0290100</td>\n",
       "      <td>Hope</td>\n",
       "      <td>NaN</td>\n",
       "      <td>City</td>\n",
       "      <td>AR</td>\n",
       "      <td>Arkansas</td>\n",
       "      <td>West South Central</td>\n",
       "      <td>South</td>\n",
       "      <td>...</td>\n",
       "      <td>Black or African American</td>\n",
       "      <td>NaN</td>\n",
       "      <td>1</td>\n",
       "      <td>Simple Assault</td>\n",
       "      <td>1.0</td>\n",
       "      <td>Highway/Road/Alley/Street/Sidewalk</td>\n",
       "      <td>Anti-White</td>\n",
       "      <td>Individual</td>\n",
       "      <td>S</td>\n",
       "      <td>S</td>\n",
       "    </tr>\n",
       "    <tr>\n",
       "      <th>2</th>\n",
       "      <td>43</td>\n",
       "      <td>1991</td>\n",
       "      <td>AR0350100</td>\n",
       "      <td>Pine Bluff</td>\n",
       "      <td>NaN</td>\n",
       "      <td>City</td>\n",
       "      <td>AR</td>\n",
       "      <td>Arkansas</td>\n",
       "      <td>West South Central</td>\n",
       "      <td>South</td>\n",
       "      <td>...</td>\n",
       "      <td>Black or African American</td>\n",
       "      <td>NaN</td>\n",
       "      <td>1</td>\n",
       "      <td>Aggravated Assault</td>\n",
       "      <td>1.0</td>\n",
       "      <td>Residence/Home</td>\n",
       "      <td>Anti-Black or African American</td>\n",
       "      <td>Individual</td>\n",
       "      <td>S</td>\n",
       "      <td>S</td>\n",
       "    </tr>\n",
       "    <tr>\n",
       "      <th>3</th>\n",
       "      <td>44</td>\n",
       "      <td>1991</td>\n",
       "      <td>AR0350100</td>\n",
       "      <td>Pine Bluff</td>\n",
       "      <td>NaN</td>\n",
       "      <td>City</td>\n",
       "      <td>AR</td>\n",
       "      <td>Arkansas</td>\n",
       "      <td>West South Central</td>\n",
       "      <td>South</td>\n",
       "      <td>...</td>\n",
       "      <td>Black or African American</td>\n",
       "      <td>NaN</td>\n",
       "      <td>2</td>\n",
       "      <td>Aggravated Assault;Destruction/Damage/Vandalis...</td>\n",
       "      <td>1.0</td>\n",
       "      <td>Highway/Road/Alley/Street/Sidewalk</td>\n",
       "      <td>Anti-White</td>\n",
       "      <td>Individual</td>\n",
       "      <td>M</td>\n",
       "      <td>S</td>\n",
       "    </tr>\n",
       "    <tr>\n",
       "      <th>4</th>\n",
       "      <td>3017</td>\n",
       "      <td>1991</td>\n",
       "      <td>AR0350100</td>\n",
       "      <td>Pine Bluff</td>\n",
       "      <td>NaN</td>\n",
       "      <td>City</td>\n",
       "      <td>AR</td>\n",
       "      <td>Arkansas</td>\n",
       "      <td>West South Central</td>\n",
       "      <td>South</td>\n",
       "      <td>...</td>\n",
       "      <td>Black or African American</td>\n",
       "      <td>NaN</td>\n",
       "      <td>1</td>\n",
       "      <td>Aggravated Assault</td>\n",
       "      <td>1.0</td>\n",
       "      <td>Service/Gas Station</td>\n",
       "      <td>Anti-White</td>\n",
       "      <td>Individual</td>\n",
       "      <td>S</td>\n",
       "      <td>S</td>\n",
       "    </tr>\n",
       "    <tr>\n",
       "      <th>...</th>\n",
       "      <td>...</td>\n",
       "      <td>...</td>\n",
       "      <td>...</td>\n",
       "      <td>...</td>\n",
       "      <td>...</td>\n",
       "      <td>...</td>\n",
       "      <td>...</td>\n",
       "      <td>...</td>\n",
       "      <td>...</td>\n",
       "      <td>...</td>\n",
       "      <td>...</td>\n",
       "      <td>...</td>\n",
       "      <td>...</td>\n",
       "      <td>...</td>\n",
       "      <td>...</td>\n",
       "      <td>...</td>\n",
       "      <td>...</td>\n",
       "      <td>...</td>\n",
       "      <td>...</td>\n",
       "      <td>...</td>\n",
       "      <td>...</td>\n",
       "    </tr>\n",
       "    <tr>\n",
       "      <th>201398</th>\n",
       "      <td>466130</td>\n",
       "      <td>2018</td>\n",
       "      <td>WV0540100</td>\n",
       "      <td>Parkersburg</td>\n",
       "      <td>NaN</td>\n",
       "      <td>City</td>\n",
       "      <td>WV</td>\n",
       "      <td>West Virginia</td>\n",
       "      <td>South Atlantic</td>\n",
       "      <td>South</td>\n",
       "      <td>...</td>\n",
       "      <td>Unknown</td>\n",
       "      <td>Unknown</td>\n",
       "      <td>1</td>\n",
       "      <td>Burglary/Breaking &amp; Entering</td>\n",
       "      <td>1.0</td>\n",
       "      <td>Residence/Home</td>\n",
       "      <td>Anti-Black or African American</td>\n",
       "      <td>Individual</td>\n",
       "      <td>S</td>\n",
       "      <td>S</td>\n",
       "    </tr>\n",
       "    <tr>\n",
       "      <th>201399</th>\n",
       "      <td>466159</td>\n",
       "      <td>2018</td>\n",
       "      <td>WV0540100</td>\n",
       "      <td>Parkersburg</td>\n",
       "      <td>NaN</td>\n",
       "      <td>City</td>\n",
       "      <td>WV</td>\n",
       "      <td>West Virginia</td>\n",
       "      <td>South Atlantic</td>\n",
       "      <td>South</td>\n",
       "      <td>...</td>\n",
       "      <td>White</td>\n",
       "      <td>Unknown</td>\n",
       "      <td>1</td>\n",
       "      <td>Simple Assault</td>\n",
       "      <td>1.0</td>\n",
       "      <td>School/College</td>\n",
       "      <td>Anti-Black or African American</td>\n",
       "      <td>Individual</td>\n",
       "      <td>S</td>\n",
       "      <td>S</td>\n",
       "    </tr>\n",
       "    <tr>\n",
       "      <th>201400</th>\n",
       "      <td>508677</td>\n",
       "      <td>2018</td>\n",
       "      <td>WV0540200</td>\n",
       "      <td>Vienna</td>\n",
       "      <td>NaN</td>\n",
       "      <td>City</td>\n",
       "      <td>WV</td>\n",
       "      <td>West Virginia</td>\n",
       "      <td>South Atlantic</td>\n",
       "      <td>South</td>\n",
       "      <td>...</td>\n",
       "      <td>Unknown</td>\n",
       "      <td>Unknown</td>\n",
       "      <td>1</td>\n",
       "      <td>Intimidation</td>\n",
       "      <td>1.0</td>\n",
       "      <td>Highway/Road/Alley/Street/Sidewalk</td>\n",
       "      <td>Anti-Asian</td>\n",
       "      <td>Individual</td>\n",
       "      <td>S</td>\n",
       "      <td>S</td>\n",
       "    </tr>\n",
       "    <tr>\n",
       "      <th>201401</th>\n",
       "      <td>463503</td>\n",
       "      <td>2018</td>\n",
       "      <td>WVWSP2400</td>\n",
       "      <td>State Police:</td>\n",
       "      <td>Madison</td>\n",
       "      <td>State Police</td>\n",
       "      <td>WV</td>\n",
       "      <td>West Virginia</td>\n",
       "      <td>South Atlantic</td>\n",
       "      <td>South</td>\n",
       "      <td>...</td>\n",
       "      <td>White</td>\n",
       "      <td>Unknown</td>\n",
       "      <td>1</td>\n",
       "      <td>Intimidation</td>\n",
       "      <td>2.0</td>\n",
       "      <td>Residence/Home</td>\n",
       "      <td>Anti-White</td>\n",
       "      <td>Law Enforcement Officer</td>\n",
       "      <td>S</td>\n",
       "      <td>S</td>\n",
       "    </tr>\n",
       "    <tr>\n",
       "      <th>201402</th>\n",
       "      <td>544359</td>\n",
       "      <td>2018</td>\n",
       "      <td>WVWSP3300</td>\n",
       "      <td>State Police:</td>\n",
       "      <td>Parkersburg</td>\n",
       "      <td>State Police</td>\n",
       "      <td>WV</td>\n",
       "      <td>West Virginia</td>\n",
       "      <td>South Atlantic</td>\n",
       "      <td>South</td>\n",
       "      <td>...</td>\n",
       "      <td>Unknown</td>\n",
       "      <td>Unknown</td>\n",
       "      <td>2</td>\n",
       "      <td>Burglary/Breaking &amp; Entering;Destruction/Damag...</td>\n",
       "      <td>0.0</td>\n",
       "      <td>Church/Synagogue/Temple/Mosque</td>\n",
       "      <td>Anti-Other Religion</td>\n",
       "      <td>Religious Organization</td>\n",
       "      <td>M</td>\n",
       "      <td>S</td>\n",
       "    </tr>\n",
       "  </tbody>\n",
       "</table>\n",
       "<p>201403 rows × 28 columns</p>\n",
       "</div>"
      ],
      "text/plain": [
       "        INCIDENT_ID  DATA_YEAR        ORI PUB_AGENCY_NAME PUB_AGENCY_UNIT  \\\n",
       "0              3015       1991  AR0040200          Rogers             NaN   \n",
       "1              3016       1991  AR0290100            Hope             NaN   \n",
       "2                43       1991  AR0350100      Pine Bluff             NaN   \n",
       "3                44       1991  AR0350100      Pine Bluff             NaN   \n",
       "4              3017       1991  AR0350100      Pine Bluff             NaN   \n",
       "...             ...        ...        ...             ...             ...   \n",
       "201398       466130       2018  WV0540100     Parkersburg             NaN   \n",
       "201399       466159       2018  WV0540100     Parkersburg             NaN   \n",
       "201400       508677       2018  WV0540200          Vienna             NaN   \n",
       "201401       463503       2018  WVWSP2400   State Police:         Madison   \n",
       "201402       544359       2018  WVWSP3300   State Police:     Parkersburg   \n",
       "\n",
       "       AGENCY_TYPE_NAME STATE_ABBR     STATE_NAME       DIVISION_NAME  \\\n",
       "0                  City         AR       Arkansas  West South Central   \n",
       "1                  City         AR       Arkansas  West South Central   \n",
       "2                  City         AR       Arkansas  West South Central   \n",
       "3                  City         AR       Arkansas  West South Central   \n",
       "4                  City         AR       Arkansas  West South Central   \n",
       "...                 ...        ...            ...                 ...   \n",
       "201398             City         WV  West Virginia      South Atlantic   \n",
       "201399             City         WV  West Virginia      South Atlantic   \n",
       "201400             City         WV  West Virginia      South Atlantic   \n",
       "201401     State Police         WV  West Virginia      South Atlantic   \n",
       "201402     State Police         WV  West Virginia      South Atlantic   \n",
       "\n",
       "       REGION_NAME  ...              OFFENDER_RACE OFFENDER_ETHNICITY  \\\n",
       "0            South  ...                      White                NaN   \n",
       "1            South  ...  Black or African American                NaN   \n",
       "2            South  ...  Black or African American                NaN   \n",
       "3            South  ...  Black or African American                NaN   \n",
       "4            South  ...  Black or African American                NaN   \n",
       "...            ...  ...                        ...                ...   \n",
       "201398       South  ...                    Unknown            Unknown   \n",
       "201399       South  ...                      White            Unknown   \n",
       "201400       South  ...                    Unknown            Unknown   \n",
       "201401       South  ...                      White            Unknown   \n",
       "201402       South  ...                    Unknown            Unknown   \n",
       "\n",
       "       VICTIM_COUNT                                       OFFENSE_NAME  \\\n",
       "0                 1                                       Intimidation   \n",
       "1                 1                                     Simple Assault   \n",
       "2                 1                                 Aggravated Assault   \n",
       "3                 2  Aggravated Assault;Destruction/Damage/Vandalis...   \n",
       "4                 1                                 Aggravated Assault   \n",
       "...             ...                                                ...   \n",
       "201398            1                       Burglary/Breaking & Entering   \n",
       "201399            1                                     Simple Assault   \n",
       "201400            1                                       Intimidation   \n",
       "201401            1                                       Intimidation   \n",
       "201402            2  Burglary/Breaking & Entering;Destruction/Damag...   \n",
       "\n",
       "        TOTAL_INDIVIDUAL_VICTIMS                       LOCATION_NAME  \\\n",
       "0                            1.0  Highway/Road/Alley/Street/Sidewalk   \n",
       "1                            1.0  Highway/Road/Alley/Street/Sidewalk   \n",
       "2                            1.0                      Residence/Home   \n",
       "3                            1.0  Highway/Road/Alley/Street/Sidewalk   \n",
       "4                            1.0                 Service/Gas Station   \n",
       "...                          ...                                 ...   \n",
       "201398                       1.0                      Residence/Home   \n",
       "201399                       1.0                      School/College   \n",
       "201400                       1.0  Highway/Road/Alley/Street/Sidewalk   \n",
       "201401                       2.0                      Residence/Home   \n",
       "201402                       0.0      Church/Synagogue/Temple/Mosque   \n",
       "\n",
       "                             BIAS_DESC             VICTIM_TYPES  \\\n",
       "0       Anti-Black or African American               Individual   \n",
       "1                           Anti-White               Individual   \n",
       "2       Anti-Black or African American               Individual   \n",
       "3                           Anti-White               Individual   \n",
       "4                           Anti-White               Individual   \n",
       "...                                ...                      ...   \n",
       "201398  Anti-Black or African American               Individual   \n",
       "201399  Anti-Black or African American               Individual   \n",
       "201400                      Anti-Asian               Individual   \n",
       "201401                      Anti-White  Law Enforcement Officer   \n",
       "201402             Anti-Other Religion   Religious Organization   \n",
       "\n",
       "       MULTIPLE_OFFENSE MULTIPLE_BIAS  \n",
       "0                     S             S  \n",
       "1                     S             S  \n",
       "2                     S             S  \n",
       "3                     M             S  \n",
       "4                     S             S  \n",
       "...                 ...           ...  \n",
       "201398                S             S  \n",
       "201399                S             S  \n",
       "201400                S             S  \n",
       "201401                S             S  \n",
       "201402                M             S  \n",
       "\n",
       "[201403 rows x 28 columns]"
      ]
     },
     "execution_count": 32,
     "metadata": {},
     "output_type": "execute_result"
    }
   ],
   "source": [
    "original_hate"
   ]
  },
  {
   "cell_type": "code",
   "execution_count": 33,
   "id": "2291c2b9",
   "metadata": {},
   "outputs": [
    {
     "data": {
      "text/plain": [
       "(201403, 28)"
      ]
     },
     "execution_count": 33,
     "metadata": {},
     "output_type": "execute_result"
    }
   ],
   "source": [
    "original_hate.shape"
   ]
  },
  {
   "cell_type": "markdown",
   "id": "54ee2d9c",
   "metadata": {},
   "source": [
    "We could tell that the number of tuples in this dataset maybe too much for a browser to handle. Also, 28 columns means that some of the columns maybe irrelavant to our analysis.\n",
    "\n",
    "Where, our focus of our analysis is shown below:\n",
    " - Explore the trend of frequency of hate crimes since 1991 (Line Plot, tooltip implemented for checking a value of a point)\n",
    " - Explore the types of hate crimes and race of offenders and reason of hate that are most common (Stacked Bar\n",
    "    Graph, selection of offenders and victims done by a radio button, use mouseover to highlight the area that the user's mouse is on)\n",
    " - Explore the average count of offenders aggregated by city against the average counts of victims aggregated by city(Scatterplot)\n",
    " - Explore the count of the juvenile offenders and the regions when they commit the hate crime (Box Plot)\n",
    " - Explore how the race of the persecutor of a hate crime relates to the race of the victim of a hate crime (Heatmap)\n",
    " - Explore where hate crimes occur in the United States in a state level(Choropleth, use mouseover to highlight the area that the user's mouse is on)\n",
    " \n",
    "Thus, we would need data on \n",
    " - count of hate crime, year of hate crime\n",
    " - victim race, offender race, type of hate crime\n",
    " - age for the victims\n",
    " - age of the offenders, sex of the offenders\n",
    " - race of the persecutor, and race of the victim\n",
    " - state of hate crime"
   ]
  },
  {
   "cell_type": "markdown",
   "id": "f5774a09",
   "metadata": {},
   "source": [
    "Thus, we would need\n",
    " - VICTIM_COUNT, DATA_YEAR\n",
    " - OFFENDER_RACE, VICTIM_RACE, OFFENSE_TYPE\n",
    " - PUB_AGENCY_NAME, VICTIM_COUNT, TOTAL_OFFENDER_COUNT\n",
    " - REGION_NAME, JUVENILE_OFFENDER_COUNT\n",
    " - OFFENDER_RACE, VICTIM_RACE\n",
    " - STATE_NAME"
   ]
  },
  {
   "cell_type": "markdown",
   "id": "616bca2d",
   "metadata": {},
   "source": [
    "We would need to derive:\n",
    "VICTIM_RACE, OFFENSE_TYPE"
   ]
  },
  {
   "cell_type": "code",
   "execution_count": 34,
   "id": "bbfe1c61",
   "metadata": {},
   "outputs": [
    {
     "data": {
      "text/plain": [
       "Index(['INCIDENT_ID', 'DATA_YEAR', 'ORI', 'PUB_AGENCY_NAME', 'PUB_AGENCY_UNIT',\n",
       "       'AGENCY_TYPE_NAME', 'STATE_ABBR', 'STATE_NAME', 'DIVISION_NAME',\n",
       "       'REGION_NAME', 'POPULATION_GROUP_CODE', 'POPULATION_GROUP_DESC',\n",
       "       'INCIDENT_DATE', 'ADULT_VICTIM_COUNT', 'JUVENILE_VICTIM_COUNT',\n",
       "       'TOTAL_OFFENDER_COUNT', 'ADULT_OFFENDER_COUNT',\n",
       "       'JUVENILE_OFFENDER_COUNT', 'OFFENDER_RACE', 'OFFENDER_ETHNICITY',\n",
       "       'VICTIM_COUNT', 'OFFENSE_NAME', 'TOTAL_INDIVIDUAL_VICTIMS',\n",
       "       'LOCATION_NAME', 'BIAS_DESC', 'VICTIM_TYPES', 'MULTIPLE_OFFENSE',\n",
       "       'MULTIPLE_BIAS'],\n",
       "      dtype='object')"
      ]
     },
     "execution_count": 34,
     "metadata": {},
     "output_type": "execute_result"
    }
   ],
   "source": [
    "original_hate.columns"
   ]
  },
  {
   "cell_type": "code",
   "execution_count": 35,
   "id": "e511e7c2",
   "metadata": {},
   "outputs": [
    {
     "data": {
      "text/plain": [
       "1    170319\n",
       "2     22979\n",
       "3      4562\n",
       "4      1853\n",
       "5       659\n",
       "Name: VICTIM_COUNT, dtype: int64"
      ]
     },
     "execution_count": 35,
     "metadata": {},
     "output_type": "execute_result"
    }
   ],
   "source": [
    "original_hate.VICTIM_COUNT.value_counts().head()"
   ]
  },
  {
   "cell_type": "code",
   "execution_count": 36,
   "id": "1c6b6168",
   "metadata": {},
   "outputs": [
    {
     "data": {
      "text/plain": [
       "<AxesSubplot:xlabel='VICTIM_COUNT', ylabel='TOTAL_OFFENDER_COUNT'>"
      ]
     },
     "execution_count": 36,
     "metadata": {},
     "output_type": "execute_result"
    },
    {
     "data": {
      "image/png": "[encoded data removed]",
      "text/plain": [
       "<Figure size 432x288 with 1 Axes>"
      ]
     },
     "metadata": {
      "needs_background": "light"
     },
     "output_type": "display_data"
    }
   ],
   "source": [
    "original_hate.groupby(\"PUB_AGENCY_NAME\").mean().plot(kind=\"scatter\", y=\"TOTAL_OFFENDER_COUNT\", x = \"VICTIM_COUNT\")"
   ]
  },
  {
   "cell_type": "code",
   "execution_count": 37,
   "id": "2b9f36e1",
   "metadata": {},
   "outputs": [
    {
     "data": {
      "text/plain": [
       "<AxesSubplot:xlabel='VICTIM_COUNT', ylabel='TOTAL_OFFENDER_COUNT'>"
      ]
     },
     "execution_count": 37,
     "metadata": {},
     "output_type": "execute_result"
    },
    {
     "data": {
      "image/png": "[encoded data removed]",
      "text/plain": [
       "<Figure size 432x288 with 1 Axes>"
      ]
     },
     "metadata": {
      "needs_background": "light"
     },
     "output_type": "display_data"
    }
   ],
   "source": [
    "original_hate.plot.scatter(x=\"VICTIM_COUNT\", y=\"TOTAL_OFFENDER_COUNT\")"
   ]
  },
  {
   "cell_type": "code",
   "execution_count": 38,
   "id": "d6b06f6a",
   "metadata": {
    "scrolled": true
   },
   "outputs": [
    {
     "data": {
      "text/plain": [
       "Index(['INCIDENT_ID', 'DATA_YEAR', 'ORI', 'PUB_AGENCY_NAME', 'PUB_AGENCY_UNIT',\n",
       "       'AGENCY_TYPE_NAME', 'STATE_ABBR', 'STATE_NAME', 'DIVISION_NAME',\n",
       "       'REGION_NAME', 'POPULATION_GROUP_CODE', 'POPULATION_GROUP_DESC',\n",
       "       'INCIDENT_DATE', 'ADULT_VICTIM_COUNT', 'JUVENILE_VICTIM_COUNT',\n",
       "       'TOTAL_OFFENDER_COUNT', 'ADULT_OFFENDER_COUNT',\n",
       "       'JUVENILE_OFFENDER_COUNT', 'OFFENDER_RACE', 'OFFENDER_ETHNICITY',\n",
       "       'VICTIM_COUNT', 'OFFENSE_NAME', 'TOTAL_INDIVIDUAL_VICTIMS',\n",
       "       'LOCATION_NAME', 'BIAS_DESC', 'VICTIM_TYPES', 'MULTIPLE_OFFENSE',\n",
       "       'MULTIPLE_BIAS'],\n",
       "      dtype='object')"
      ]
     },
     "execution_count": 38,
     "metadata": {},
     "output_type": "execute_result"
    }
   ],
   "source": [
    "original_hate.columns"
   ]
  },
  {
   "cell_type": "markdown",
   "id": "dd224851",
   "metadata": {},
   "source": [
    "### Deriving Offense Type"
   ]
  },
  {
   "cell_type": "code",
   "execution_count": 39,
   "id": "a14d29a4",
   "metadata": {},
   "outputs": [],
   "source": [
    "original_hate[\"Offense\"] = original_hate['OFFENSE_NAME'].str.split(\";\").str[0].str.split(\" \").str[-1]"
   ]
  },
  {
   "cell_type": "code",
   "execution_count": 40,
   "id": "514d50ed",
   "metadata": {},
   "outputs": [
    {
     "name": "stderr",
     "output_type": "stream",
     "text": [
      "/var/folders/51/64d5lv_53rx716ghj8z3q13c0000gn/T/ipykernel_5823/2012499392.py:2: SettingWithCopyWarning: \n",
      "A value is trying to be set on a copy of a slice from a DataFrame\n",
      "\n",
      "See the caveats in the documentation: https://pandas.pydata.org/pandas-docs/stable/user_guide/indexing.html#returning-a-view-versus-a-copy\n",
      "  original_hate[\"Offense\"][(original_hate[\"Offense\"] != first3offense[0]) &\n"
     ]
    }
   ],
   "source": [
    "first3offense = list(original_hate[\"Offense\"].value_counts()[0:3].index)\n",
    "original_hate[\"Offense\"][(original_hate[\"Offense\"] != first3offense[0]) & \n",
    "              (original_hate[\"Offense\"] != first3offense[1]) & \n",
    "              (original_hate[\"Offense\"] != first3offense[2])] = \"Others\""
   ]
  },
  {
   "cell_type": "code",
   "execution_count": 41,
   "id": "182f6d5f",
   "metadata": {},
   "outputs": [
    {
     "data": {
      "text/plain": [
       "['Property', 'Assault', 'Intimidation']"
      ]
     },
     "execution_count": 41,
     "metadata": {},
     "output_type": "execute_result"
    }
   ],
   "source": [
    "first3offense"
   ]
  },
  {
   "cell_type": "code",
   "execution_count": 42,
   "id": "0f2afe24",
   "metadata": {},
   "outputs": [
    {
     "data": {
      "text/plain": [
       "Property        64768\n",
       "Assault         60837\n",
       "Intimidation    59771\n",
       "Others          16027\n",
       "Name: Offense, dtype: int64"
      ]
     },
     "execution_count": 42,
     "metadata": {},
     "output_type": "execute_result"
    }
   ],
   "source": [
    "original_hate.Offense.value_counts()"
   ]
  },
  {
   "cell_type": "markdown",
   "id": "9f12edeb",
   "metadata": {},
   "source": [
    "### Derviving VICTIM_RACE"
   ]
  },
  {
   "cell_type": "code",
   "execution_count": 43,
   "id": "9a10abfb-ea91-41a5-ba2c-110e03818033",
   "metadata": {},
   "outputs": [],
   "source": [
    "# value counts of bias_desc\n",
    "\n",
    "# original_hate['BIAS_DESC'].value_counts().to_string().split('\\n')"
   ]
  },
  {
   "cell_type": "code",
   "execution_count": 44,
   "id": "ea804757-7d36-4ff5-a74d-ade9ccb0586a",
   "metadata": {},
   "outputs": [],
   "source": [
    "# print value counts if contains 'Jewish'. proves there is no particular order to groups of bias aside from alphabetical order\n",
    "\n",
    "# for i in original_hate['BIAS_DESC'].value_counts().to_string().split('\\n'):\n",
    "#     if 'Jewish' in i:\n",
    "#         print(i)"
   ]
  },
  {
   "cell_type": "code",
   "execution_count": 45,
   "id": "78f9b492-cdbb-494e-ad73-96a92852f938",
   "metadata": {},
   "outputs": [
    {
     "data": {
      "text/plain": [
       "359"
      ]
     },
     "execution_count": 45,
     "metadata": {},
     "output_type": "execute_result"
    }
   ],
   "source": [
    "# number of rows that contain groups of biases\n",
    "\n",
    "len(original_hate[original_hate['BIAS_DESC'].str.contains(';')])"
   ]
  },
  {
   "cell_type": "code",
   "execution_count": 46,
   "id": "d8953dd8-eea1-4c3c-9057-7fe892ac395f",
   "metadata": {},
   "outputs": [
    {
     "data": {
      "text/plain": [
       "201403"
      ]
     },
     "execution_count": 46,
     "metadata": {},
     "output_type": "execute_result"
    }
   ],
   "source": [
    "# total number of rows\n",
    "\n",
    "len(original_hate)"
   ]
  },
  {
   "cell_type": "code",
   "execution_count": 47,
   "id": "e3c7d792-546d-4ceb-9164-cf3a8a6e1fcf",
   "metadata": {},
   "outputs": [
    {
     "data": {
      "text/html": [
       "<div>\n",
       "<style scoped>\n",
       "    .dataframe tbody tr th:only-of-type {\n",
       "        vertical-align: middle;\n",
       "    }\n",
       "\n",
       "    .dataframe tbody tr th {\n",
       "        vertical-align: top;\n",
       "    }\n",
       "\n",
       "    .dataframe thead th {\n",
       "        text-align: right;\n",
       "    }\n",
       "</style>\n",
       "<table border=\"1\" class=\"dataframe\">\n",
       "  <thead>\n",
       "    <tr style=\"text-align: right;\">\n",
       "      <th></th>\n",
       "      <th>INCIDENT_ID</th>\n",
       "      <th>DATA_YEAR</th>\n",
       "      <th>ORI</th>\n",
       "      <th>PUB_AGENCY_NAME</th>\n",
       "      <th>PUB_AGENCY_UNIT</th>\n",
       "      <th>AGENCY_TYPE_NAME</th>\n",
       "      <th>STATE_ABBR</th>\n",
       "      <th>STATE_NAME</th>\n",
       "      <th>DIVISION_NAME</th>\n",
       "      <th>REGION_NAME</th>\n",
       "      <th>...</th>\n",
       "      <th>OFFENDER_ETHNICITY</th>\n",
       "      <th>VICTIM_COUNT</th>\n",
       "      <th>OFFENSE_NAME</th>\n",
       "      <th>TOTAL_INDIVIDUAL_VICTIMS</th>\n",
       "      <th>LOCATION_NAME</th>\n",
       "      <th>BIAS_DESC</th>\n",
       "      <th>VICTIM_TYPES</th>\n",
       "      <th>MULTIPLE_OFFENSE</th>\n",
       "      <th>MULTIPLE_BIAS</th>\n",
       "      <th>Offense</th>\n",
       "    </tr>\n",
       "  </thead>\n",
       "  <tbody>\n",
       "    <tr>\n",
       "      <th>0</th>\n",
       "      <td>3015</td>\n",
       "      <td>1991</td>\n",
       "      <td>AR0040200</td>\n",
       "      <td>Rogers</td>\n",
       "      <td>NaN</td>\n",
       "      <td>City</td>\n",
       "      <td>AR</td>\n",
       "      <td>Arkansas</td>\n",
       "      <td>West South Central</td>\n",
       "      <td>South</td>\n",
       "      <td>...</td>\n",
       "      <td>NaN</td>\n",
       "      <td>1</td>\n",
       "      <td>Intimidation</td>\n",
       "      <td>1.0</td>\n",
       "      <td>Highway/Road/Alley/Street/Sidewalk</td>\n",
       "      <td>Anti-Black or African American</td>\n",
       "      <td>Individual</td>\n",
       "      <td>S</td>\n",
       "      <td>S</td>\n",
       "      <td>Intimidation</td>\n",
       "    </tr>\n",
       "    <tr>\n",
       "      <th>1</th>\n",
       "      <td>3016</td>\n",
       "      <td>1991</td>\n",
       "      <td>AR0290100</td>\n",
       "      <td>Hope</td>\n",
       "      <td>NaN</td>\n",
       "      <td>City</td>\n",
       "      <td>AR</td>\n",
       "      <td>Arkansas</td>\n",
       "      <td>West South Central</td>\n",
       "      <td>South</td>\n",
       "      <td>...</td>\n",
       "      <td>NaN</td>\n",
       "      <td>1</td>\n",
       "      <td>Simple Assault</td>\n",
       "      <td>1.0</td>\n",
       "      <td>Highway/Road/Alley/Street/Sidewalk</td>\n",
       "      <td>Anti-White</td>\n",
       "      <td>Individual</td>\n",
       "      <td>S</td>\n",
       "      <td>S</td>\n",
       "      <td>Assault</td>\n",
       "    </tr>\n",
       "    <tr>\n",
       "      <th>2</th>\n",
       "      <td>43</td>\n",
       "      <td>1991</td>\n",
       "      <td>AR0350100</td>\n",
       "      <td>Pine Bluff</td>\n",
       "      <td>NaN</td>\n",
       "      <td>City</td>\n",
       "      <td>AR</td>\n",
       "      <td>Arkansas</td>\n",
       "      <td>West South Central</td>\n",
       "      <td>South</td>\n",
       "      <td>...</td>\n",
       "      <td>NaN</td>\n",
       "      <td>1</td>\n",
       "      <td>Aggravated Assault</td>\n",
       "      <td>1.0</td>\n",
       "      <td>Residence/Home</td>\n",
       "      <td>Anti-Black or African American</td>\n",
       "      <td>Individual</td>\n",
       "      <td>S</td>\n",
       "      <td>S</td>\n",
       "      <td>Assault</td>\n",
       "    </tr>\n",
       "    <tr>\n",
       "      <th>3</th>\n",
       "      <td>44</td>\n",
       "      <td>1991</td>\n",
       "      <td>AR0350100</td>\n",
       "      <td>Pine Bluff</td>\n",
       "      <td>NaN</td>\n",
       "      <td>City</td>\n",
       "      <td>AR</td>\n",
       "      <td>Arkansas</td>\n",
       "      <td>West South Central</td>\n",
       "      <td>South</td>\n",
       "      <td>...</td>\n",
       "      <td>NaN</td>\n",
       "      <td>2</td>\n",
       "      <td>Aggravated Assault;Destruction/Damage/Vandalis...</td>\n",
       "      <td>1.0</td>\n",
       "      <td>Highway/Road/Alley/Street/Sidewalk</td>\n",
       "      <td>Anti-White</td>\n",
       "      <td>Individual</td>\n",
       "      <td>M</td>\n",
       "      <td>S</td>\n",
       "      <td>Assault</td>\n",
       "    </tr>\n",
       "    <tr>\n",
       "      <th>4</th>\n",
       "      <td>3017</td>\n",
       "      <td>1991</td>\n",
       "      <td>AR0350100</td>\n",
       "      <td>Pine Bluff</td>\n",
       "      <td>NaN</td>\n",
       "      <td>City</td>\n",
       "      <td>AR</td>\n",
       "      <td>Arkansas</td>\n",
       "      <td>West South Central</td>\n",
       "      <td>South</td>\n",
       "      <td>...</td>\n",
       "      <td>NaN</td>\n",
       "      <td>1</td>\n",
       "      <td>Aggravated Assault</td>\n",
       "      <td>1.0</td>\n",
       "      <td>Service/Gas Station</td>\n",
       "      <td>Anti-White</td>\n",
       "      <td>Individual</td>\n",
       "      <td>S</td>\n",
       "      <td>S</td>\n",
       "      <td>Assault</td>\n",
       "    </tr>\n",
       "    <tr>\n",
       "      <th>...</th>\n",
       "      <td>...</td>\n",
       "      <td>...</td>\n",
       "      <td>...</td>\n",
       "      <td>...</td>\n",
       "      <td>...</td>\n",
       "      <td>...</td>\n",
       "      <td>...</td>\n",
       "      <td>...</td>\n",
       "      <td>...</td>\n",
       "      <td>...</td>\n",
       "      <td>...</td>\n",
       "      <td>...</td>\n",
       "      <td>...</td>\n",
       "      <td>...</td>\n",
       "      <td>...</td>\n",
       "      <td>...</td>\n",
       "      <td>...</td>\n",
       "      <td>...</td>\n",
       "      <td>...</td>\n",
       "      <td>...</td>\n",
       "      <td>...</td>\n",
       "    </tr>\n",
       "    <tr>\n",
       "      <th>201398</th>\n",
       "      <td>466130</td>\n",
       "      <td>2018</td>\n",
       "      <td>WV0540100</td>\n",
       "      <td>Parkersburg</td>\n",
       "      <td>NaN</td>\n",
       "      <td>City</td>\n",
       "      <td>WV</td>\n",
       "      <td>West Virginia</td>\n",
       "      <td>South Atlantic</td>\n",
       "      <td>South</td>\n",
       "      <td>...</td>\n",
       "      <td>Unknown</td>\n",
       "      <td>1</td>\n",
       "      <td>Burglary/Breaking &amp; Entering</td>\n",
       "      <td>1.0</td>\n",
       "      <td>Residence/Home</td>\n",
       "      <td>Anti-Black or African American</td>\n",
       "      <td>Individual</td>\n",
       "      <td>S</td>\n",
       "      <td>S</td>\n",
       "      <td>Others</td>\n",
       "    </tr>\n",
       "    <tr>\n",
       "      <th>201399</th>\n",
       "      <td>466159</td>\n",
       "      <td>2018</td>\n",
       "      <td>WV0540100</td>\n",
       "      <td>Parkersburg</td>\n",
       "      <td>NaN</td>\n",
       "      <td>City</td>\n",
       "      <td>WV</td>\n",
       "      <td>West Virginia</td>\n",
       "      <td>South Atlantic</td>\n",
       "      <td>South</td>\n",
       "      <td>...</td>\n",
       "      <td>Unknown</td>\n",
       "      <td>1</td>\n",
       "      <td>Simple Assault</td>\n",
       "      <td>1.0</td>\n",
       "      <td>School/College</td>\n",
       "      <td>Anti-Black or African American</td>\n",
       "      <td>Individual</td>\n",
       "      <td>S</td>\n",
       "      <td>S</td>\n",
       "      <td>Assault</td>\n",
       "    </tr>\n",
       "    <tr>\n",
       "      <th>201400</th>\n",
       "      <td>508677</td>\n",
       "      <td>2018</td>\n",
       "      <td>WV0540200</td>\n",
       "      <td>Vienna</td>\n",
       "      <td>NaN</td>\n",
       "      <td>City</td>\n",
       "      <td>WV</td>\n",
       "      <td>West Virginia</td>\n",
       "      <td>South Atlantic</td>\n",
       "      <td>South</td>\n",
       "      <td>...</td>\n",
       "      <td>Unknown</td>\n",
       "      <td>1</td>\n",
       "      <td>Intimidation</td>\n",
       "      <td>1.0</td>\n",
       "      <td>Highway/Road/Alley/Street/Sidewalk</td>\n",
       "      <td>Anti-Asian</td>\n",
       "      <td>Individual</td>\n",
       "      <td>S</td>\n",
       "      <td>S</td>\n",
       "      <td>Intimidation</td>\n",
       "    </tr>\n",
       "    <tr>\n",
       "      <th>201401</th>\n",
       "      <td>463503</td>\n",
       "      <td>2018</td>\n",
       "      <td>WVWSP2400</td>\n",
       "      <td>State Police:</td>\n",
       "      <td>Madison</td>\n",
       "      <td>State Police</td>\n",
       "      <td>WV</td>\n",
       "      <td>West Virginia</td>\n",
       "      <td>South Atlantic</td>\n",
       "      <td>South</td>\n",
       "      <td>...</td>\n",
       "      <td>Unknown</td>\n",
       "      <td>1</td>\n",
       "      <td>Intimidation</td>\n",
       "      <td>2.0</td>\n",
       "      <td>Residence/Home</td>\n",
       "      <td>Anti-White</td>\n",
       "      <td>Law Enforcement Officer</td>\n",
       "      <td>S</td>\n",
       "      <td>S</td>\n",
       "      <td>Intimidation</td>\n",
       "    </tr>\n",
       "    <tr>\n",
       "      <th>201402</th>\n",
       "      <td>544359</td>\n",
       "      <td>2018</td>\n",
       "      <td>WVWSP3300</td>\n",
       "      <td>State Police:</td>\n",
       "      <td>Parkersburg</td>\n",
       "      <td>State Police</td>\n",
       "      <td>WV</td>\n",
       "      <td>West Virginia</td>\n",
       "      <td>South Atlantic</td>\n",
       "      <td>South</td>\n",
       "      <td>...</td>\n",
       "      <td>Unknown</td>\n",
       "      <td>2</td>\n",
       "      <td>Burglary/Breaking &amp; Entering;Destruction/Damag...</td>\n",
       "      <td>0.0</td>\n",
       "      <td>Church/Synagogue/Temple/Mosque</td>\n",
       "      <td>Anti-Other Religion</td>\n",
       "      <td>Religious Organization</td>\n",
       "      <td>M</td>\n",
       "      <td>S</td>\n",
       "      <td>Others</td>\n",
       "    </tr>\n",
       "  </tbody>\n",
       "</table>\n",
       "<p>201044 rows × 29 columns</p>\n",
       "</div>"
      ],
      "text/plain": [
       "        INCIDENT_ID  DATA_YEAR        ORI PUB_AGENCY_NAME PUB_AGENCY_UNIT  \\\n",
       "0              3015       1991  AR0040200          Rogers             NaN   \n",
       "1              3016       1991  AR0290100            Hope             NaN   \n",
       "2                43       1991  AR0350100      Pine Bluff             NaN   \n",
       "3                44       1991  AR0350100      Pine Bluff             NaN   \n",
       "4              3017       1991  AR0350100      Pine Bluff             NaN   \n",
       "...             ...        ...        ...             ...             ...   \n",
       "201398       466130       2018  WV0540100     Parkersburg             NaN   \n",
       "201399       466159       2018  WV0540100     Parkersburg             NaN   \n",
       "201400       508677       2018  WV0540200          Vienna             NaN   \n",
       "201401       463503       2018  WVWSP2400   State Police:         Madison   \n",
       "201402       544359       2018  WVWSP3300   State Police:     Parkersburg   \n",
       "\n",
       "       AGENCY_TYPE_NAME STATE_ABBR     STATE_NAME       DIVISION_NAME  \\\n",
       "0                  City         AR       Arkansas  West South Central   \n",
       "1                  City         AR       Arkansas  West South Central   \n",
       "2                  City         AR       Arkansas  West South Central   \n",
       "3                  City         AR       Arkansas  West South Central   \n",
       "4                  City         AR       Arkansas  West South Central   \n",
       "...                 ...        ...            ...                 ...   \n",
       "201398             City         WV  West Virginia      South Atlantic   \n",
       "201399             City         WV  West Virginia      South Atlantic   \n",
       "201400             City         WV  West Virginia      South Atlantic   \n",
       "201401     State Police         WV  West Virginia      South Atlantic   \n",
       "201402     State Police         WV  West Virginia      South Atlantic   \n",
       "\n",
       "       REGION_NAME  ... OFFENDER_ETHNICITY VICTIM_COUNT  \\\n",
       "0            South  ...                NaN            1   \n",
       "1            South  ...                NaN            1   \n",
       "2            South  ...                NaN            1   \n",
       "3            South  ...                NaN            2   \n",
       "4            South  ...                NaN            1   \n",
       "...            ...  ...                ...          ...   \n",
       "201398       South  ...            Unknown            1   \n",
       "201399       South  ...            Unknown            1   \n",
       "201400       South  ...            Unknown            1   \n",
       "201401       South  ...            Unknown            1   \n",
       "201402       South  ...            Unknown            2   \n",
       "\n",
       "                                             OFFENSE_NAME  \\\n",
       "0                                            Intimidation   \n",
       "1                                          Simple Assault   \n",
       "2                                      Aggravated Assault   \n",
       "3       Aggravated Assault;Destruction/Damage/Vandalis...   \n",
       "4                                      Aggravated Assault   \n",
       "...                                                   ...   \n",
       "201398                       Burglary/Breaking & Entering   \n",
       "201399                                     Simple Assault   \n",
       "201400                                       Intimidation   \n",
       "201401                                       Intimidation   \n",
       "201402  Burglary/Breaking & Entering;Destruction/Damag...   \n",
       "\n",
       "        TOTAL_INDIVIDUAL_VICTIMS                       LOCATION_NAME  \\\n",
       "0                            1.0  Highway/Road/Alley/Street/Sidewalk   \n",
       "1                            1.0  Highway/Road/Alley/Street/Sidewalk   \n",
       "2                            1.0                      Residence/Home   \n",
       "3                            1.0  Highway/Road/Alley/Street/Sidewalk   \n",
       "4                            1.0                 Service/Gas Station   \n",
       "...                          ...                                 ...   \n",
       "201398                       1.0                      Residence/Home   \n",
       "201399                       1.0                      School/College   \n",
       "201400                       1.0  Highway/Road/Alley/Street/Sidewalk   \n",
       "201401                       2.0                      Residence/Home   \n",
       "201402                       0.0      Church/Synagogue/Temple/Mosque   \n",
       "\n",
       "                             BIAS_DESC             VICTIM_TYPES  \\\n",
       "0       Anti-Black or African American               Individual   \n",
       "1                           Anti-White               Individual   \n",
       "2       Anti-Black or African American               Individual   \n",
       "3                           Anti-White               Individual   \n",
       "4                           Anti-White               Individual   \n",
       "...                                ...                      ...   \n",
       "201398  Anti-Black or African American               Individual   \n",
       "201399  Anti-Black or African American               Individual   \n",
       "201400                      Anti-Asian               Individual   \n",
       "201401                      Anti-White  Law Enforcement Officer   \n",
       "201402             Anti-Other Religion   Religious Organization   \n",
       "\n",
       "        MULTIPLE_OFFENSE MULTIPLE_BIAS       Offense  \n",
       "0                      S             S  Intimidation  \n",
       "1                      S             S       Assault  \n",
       "2                      S             S       Assault  \n",
       "3                      M             S       Assault  \n",
       "4                      S             S       Assault  \n",
       "...                  ...           ...           ...  \n",
       "201398                 S             S        Others  \n",
       "201399                 S             S       Assault  \n",
       "201400                 S             S  Intimidation  \n",
       "201401                 S             S  Intimidation  \n",
       "201402                 M             S        Others  \n",
       "\n",
       "[201044 rows x 29 columns]"
      ]
     },
     "execution_count": 47,
     "metadata": {},
     "output_type": "execute_result"
    }
   ],
   "source": [
    "original_hate[original_hate['BIAS_DESC'].str.contains(';')==False]"
   ]
  },
  {
   "cell_type": "code",
   "execution_count": 48,
   "id": "e233af32",
   "metadata": {
    "scrolled": false
   },
   "outputs": [
    {
     "name": "stderr",
     "output_type": "stream",
     "text": [
      "/var/folders/51/64d5lv_53rx716ghj8z3q13c0000gn/T/ipykernel_5823/1582282739.py:1: SettingWithCopyWarning: \n",
      "A value is trying to be set on a copy of a slice from a DataFrame\n",
      "\n",
      "See the caveats in the documentation: https://pandas.pydata.org/pandas-docs/stable/user_guide/indexing.html#returning-a-view-versus-a-copy\n",
      "  original_hate[\"OFFENDER_RACE\"][\n"
     ]
    }
   ],
   "source": [
    "original_hate[\"OFFENDER_RACE\"][ \n",
    "              (original_hate[\"OFFENDER_RACE\"] == \"American Indian or Alaska Native\") | \n",
    "              (original_hate[\"OFFENDER_RACE\"] == \"Native Hawaiian or Other Pacific Islander\")] = \"Others\""
   ]
  },
  {
   "cell_type": "code",
   "execution_count": 49,
   "id": "c22657a2",
   "metadata": {},
   "outputs": [],
   "source": [
    "original_hate[\"VICTIM_RACE\"] = original_hate['BIAS_DESC']"
   ]
  },
  {
   "cell_type": "code",
   "execution_count": 50,
   "id": "85acb711",
   "metadata": {},
   "outputs": [
    {
     "data": {
      "text/plain": [
       "array(['White', 'Black or African American', 'Unknown', 'Multiple',\n",
       "       'Asian', 'Others', nan], dtype=object)"
      ]
     },
     "execution_count": 50,
     "metadata": {},
     "output_type": "execute_result"
    }
   ],
   "source": [
    "original_hate.OFFENDER_RACE.unique()"
   ]
  },
  {
   "cell_type": "code",
   "execution_count": 51,
   "id": "fcf0df57",
   "metadata": {},
   "outputs": [
    {
     "name": "stderr",
     "output_type": "stream",
     "text": [
      "/var/folders/51/64d5lv_53rx716ghj8z3q13c0000gn/T/ipykernel_5823/1051357128.py:1: SettingWithCopyWarning: \n",
      "A value is trying to be set on a copy of a slice from a DataFrame\n",
      "\n",
      "See the caveats in the documentation: https://pandas.pydata.org/pandas-docs/stable/user_guide/indexing.html#returning-a-view-versus-a-copy\n",
      "  original_hate.VICTIM_RACE[original_hate.VICTIM_RACE.str.contains\n",
      "/var/folders/51/64d5lv_53rx716ghj8z3q13c0000gn/T/ipykernel_5823/1051357128.py:3: SettingWithCopyWarning: \n",
      "A value is trying to be set on a copy of a slice from a DataFrame\n",
      "\n",
      "See the caveats in the documentation: https://pandas.pydata.org/pandas-docs/stable/user_guide/indexing.html#returning-a-view-versus-a-copy\n",
      "  original_hate.VICTIM_RACE[original_hate.VICTIM_RACE.str.contains\n",
      "/var/folders/51/64d5lv_53rx716ghj8z3q13c0000gn/T/ipykernel_5823/1051357128.py:5: SettingWithCopyWarning: \n",
      "A value is trying to be set on a copy of a slice from a DataFrame\n",
      "\n",
      "See the caveats in the documentation: https://pandas.pydata.org/pandas-docs/stable/user_guide/indexing.html#returning-a-view-versus-a-copy\n",
      "  original_hate.VICTIM_RACE[original_hate.VICTIM_RACE.str.contains\n"
     ]
    }
   ],
   "source": [
    "original_hate.VICTIM_RACE[original_hate.VICTIM_RACE.str.contains\n",
    "              (original_hate.OFFENDER_RACE.unique()[0])] = original_hate.OFFENDER_RACE.unique()[0]\n",
    "original_hate.VICTIM_RACE[original_hate.VICTIM_RACE.str.contains\n",
    "              (\"Black\", case=False)] = original_hate.OFFENDER_RACE.unique()[1]\n",
    "original_hate.VICTIM_RACE[original_hate.VICTIM_RACE.str.contains\n",
    "              (original_hate.OFFENDER_RACE.unique()[4])] = original_hate.OFFENDER_RACE.unique()[4]"
   ]
  },
  {
   "cell_type": "code",
   "execution_count": 52,
   "id": "599bc68f",
   "metadata": {
    "scrolled": true
   },
   "outputs": [
    {
     "data": {
      "text/plain": [
       "Black or African American                                                          69209\n",
       "Anti-Jewish                                                                        26109\n",
       "White                                                                              23432\n",
       "Anti-Gay (Male)                                                                    20316\n",
       "Anti-Hispanic or Latino                                                            12837\n",
       "                                                                                   ...  \n",
       "Anti-Bisexual;Anti-Gay (Male)                                                          1\n",
       "Anti-Islamic (Muslim);Anti-Lesbian, Gay, Bisexual, or Transgender (Mixed Group)        1\n",
       "Anti-Hispanic or Latino;Anti-Jewish                                                    1\n",
       "Anti-Gay (Male);Anti-Physical Disability                                               1\n",
       "Anti-Gay (Male);Anti-Male                                                              1\n",
       "Name: VICTIM_RACE, Length: 91, dtype: int64"
      ]
     },
     "execution_count": 52,
     "metadata": {},
     "output_type": "execute_result"
    }
   ],
   "source": [
    "original_hate.VICTIM_RACE.value_counts()"
   ]
  },
  {
   "cell_type": "code",
   "execution_count": 53,
   "id": "14b65986",
   "metadata": {},
   "outputs": [
    {
     "name": "stderr",
     "output_type": "stream",
     "text": [
      "/var/folders/51/64d5lv_53rx716ghj8z3q13c0000gn/T/ipykernel_5823/2123912314.py:2: SettingWithCopyWarning: \n",
      "A value is trying to be set on a copy of a slice from a DataFrame\n",
      "\n",
      "See the caveats in the documentation: https://pandas.pydata.org/pandas-docs/stable/user_guide/indexing.html#returning-a-view-versus-a-copy\n",
      "  original_hate[\"VICTIM_RACE\"][(original_hate[\"VICTIM_RACE\"] != original_hate.OFFENDER_RACE.unique()[0]) &\n"
     ]
    }
   ],
   "source": [
    "first4race = list(original_hate.VICTIM_RACE.value_counts()[0:8].index)\n",
    "original_hate[\"VICTIM_RACE\"][(original_hate[\"VICTIM_RACE\"] != original_hate.OFFENDER_RACE.unique()[0]) & \n",
    "              (original_hate[\"VICTIM_RACE\"] != original_hate.OFFENDER_RACE.unique()[1]) & \n",
    "              (original_hate[\"VICTIM_RACE\"] != original_hate.OFFENDER_RACE.unique()[4])] = \"Others\""
   ]
  },
  {
   "cell_type": "code",
   "execution_count": 54,
   "id": "63bb03a4",
   "metadata": {
    "scrolled": true
   },
   "outputs": [
    {
     "data": {
      "text/plain": [
       "Unknown                      89284\n",
       "White                        79514\n",
       "Black or African American    25956\n",
       "Multiple                      4047\n",
       "Asian                         1453\n",
       "Others                        1130\n",
       "Name: OFFENDER_RACE, dtype: int64"
      ]
     },
     "execution_count": 54,
     "metadata": {},
     "output_type": "execute_result"
    }
   ],
   "source": [
    "original_hate.OFFENDER_RACE.value_counts()"
   ]
  },
  {
   "cell_type": "code",
   "execution_count": 55,
   "id": "4b9aa6bb",
   "metadata": {},
   "outputs": [
    {
     "data": {
      "text/plain": [
       "Others                       102840\n",
       "Black or African American     69209\n",
       "White                         23432\n",
       "Asian                          5922\n",
       "Name: VICTIM_RACE, dtype: int64"
      ]
     },
     "execution_count": 55,
     "metadata": {},
     "output_type": "execute_result"
    }
   ],
   "source": [
    "original_hate.VICTIM_RACE.value_counts()"
   ]
  },
  {
   "cell_type": "code",
   "execution_count": 56,
   "id": "e0e7cb69",
   "metadata": {},
   "outputs": [],
   "source": [
    "new_hate = original_hate[[\"STATE_NAME\", \"DATA_YEAR\", \"VICTIM_COUNT\", \"OFFENDER_RACE\", \n",
    "                          \"VICTIM_RACE\", \"Offense\", \"PUB_AGENCY_NAME\", \n",
    "                          \"TOTAL_OFFENDER_COUNT\", \"REGION_NAME\", \"JUVENILE_OFFENDER_COUNT\"]].copy()"
   ]
  },
  {
   "cell_type": "code",
   "execution_count": 57,
   "id": "fc6e7b6e",
   "metadata": {},
   "outputs": [
    {
     "data": {
      "text/html": [
       "<div>\n",
       "<style scoped>\n",
       "    .dataframe tbody tr th:only-of-type {\n",
       "        vertical-align: middle;\n",
       "    }\n",
       "\n",
       "    .dataframe tbody tr th {\n",
       "        vertical-align: top;\n",
       "    }\n",
       "\n",
       "    .dataframe thead th {\n",
       "        text-align: right;\n",
       "    }\n",
       "</style>\n",
       "<table border=\"1\" class=\"dataframe\">\n",
       "  <thead>\n",
       "    <tr style=\"text-align: right;\">\n",
       "      <th></th>\n",
       "      <th>STATE_NAME</th>\n",
       "      <th>DATA_YEAR</th>\n",
       "      <th>VICTIM_COUNT</th>\n",
       "      <th>OFFENDER_RACE</th>\n",
       "      <th>VICTIM_RACE</th>\n",
       "      <th>Offense</th>\n",
       "      <th>PUB_AGENCY_NAME</th>\n",
       "      <th>TOTAL_OFFENDER_COUNT</th>\n",
       "      <th>REGION_NAME</th>\n",
       "      <th>JUVENILE_OFFENDER_COUNT</th>\n",
       "    </tr>\n",
       "  </thead>\n",
       "  <tbody>\n",
       "    <tr>\n",
       "      <th>0</th>\n",
       "      <td>Arkansas</td>\n",
       "      <td>1991</td>\n",
       "      <td>1</td>\n",
       "      <td>White</td>\n",
       "      <td>Black or African American</td>\n",
       "      <td>Intimidation</td>\n",
       "      <td>Rogers</td>\n",
       "      <td>1</td>\n",
       "      <td>South</td>\n",
       "      <td>NaN</td>\n",
       "    </tr>\n",
       "    <tr>\n",
       "      <th>1</th>\n",
       "      <td>Arkansas</td>\n",
       "      <td>1991</td>\n",
       "      <td>1</td>\n",
       "      <td>Black or African American</td>\n",
       "      <td>White</td>\n",
       "      <td>Assault</td>\n",
       "      <td>Hope</td>\n",
       "      <td>1</td>\n",
       "      <td>South</td>\n",
       "      <td>NaN</td>\n",
       "    </tr>\n",
       "    <tr>\n",
       "      <th>2</th>\n",
       "      <td>Arkansas</td>\n",
       "      <td>1991</td>\n",
       "      <td>1</td>\n",
       "      <td>Black or African American</td>\n",
       "      <td>Black or African American</td>\n",
       "      <td>Assault</td>\n",
       "      <td>Pine Bluff</td>\n",
       "      <td>1</td>\n",
       "      <td>South</td>\n",
       "      <td>NaN</td>\n",
       "    </tr>\n",
       "    <tr>\n",
       "      <th>3</th>\n",
       "      <td>Arkansas</td>\n",
       "      <td>1991</td>\n",
       "      <td>2</td>\n",
       "      <td>Black or African American</td>\n",
       "      <td>White</td>\n",
       "      <td>Assault</td>\n",
       "      <td>Pine Bluff</td>\n",
       "      <td>1</td>\n",
       "      <td>South</td>\n",
       "      <td>NaN</td>\n",
       "    </tr>\n",
       "    <tr>\n",
       "      <th>4</th>\n",
       "      <td>Arkansas</td>\n",
       "      <td>1991</td>\n",
       "      <td>1</td>\n",
       "      <td>Black or African American</td>\n",
       "      <td>White</td>\n",
       "      <td>Assault</td>\n",
       "      <td>Pine Bluff</td>\n",
       "      <td>1</td>\n",
       "      <td>South</td>\n",
       "      <td>NaN</td>\n",
       "    </tr>\n",
       "    <tr>\n",
       "      <th>...</th>\n",
       "      <td>...</td>\n",
       "      <td>...</td>\n",
       "      <td>...</td>\n",
       "      <td>...</td>\n",
       "      <td>...</td>\n",
       "      <td>...</td>\n",
       "      <td>...</td>\n",
       "      <td>...</td>\n",
       "      <td>...</td>\n",
       "      <td>...</td>\n",
       "    </tr>\n",
       "    <tr>\n",
       "      <th>201394</th>\n",
       "      <td>West Virginia</td>\n",
       "      <td>2018</td>\n",
       "      <td>1</td>\n",
       "      <td>White</td>\n",
       "      <td>White</td>\n",
       "      <td>Others</td>\n",
       "      <td>Buckhannon</td>\n",
       "      <td>1</td>\n",
       "      <td>South</td>\n",
       "      <td>0.0</td>\n",
       "    </tr>\n",
       "    <tr>\n",
       "      <th>201395</th>\n",
       "      <td>West Virginia</td>\n",
       "      <td>2018</td>\n",
       "      <td>1</td>\n",
       "      <td>White</td>\n",
       "      <td>White</td>\n",
       "      <td>Others</td>\n",
       "      <td>Buckhannon</td>\n",
       "      <td>1</td>\n",
       "      <td>South</td>\n",
       "      <td>0.0</td>\n",
       "    </tr>\n",
       "    <tr>\n",
       "      <th>201397</th>\n",
       "      <td>West Virginia</td>\n",
       "      <td>2018</td>\n",
       "      <td>1</td>\n",
       "      <td>White</td>\n",
       "      <td>Others</td>\n",
       "      <td>Others</td>\n",
       "      <td>Kenova</td>\n",
       "      <td>2</td>\n",
       "      <td>South</td>\n",
       "      <td>0.0</td>\n",
       "    </tr>\n",
       "    <tr>\n",
       "      <th>201399</th>\n",
       "      <td>West Virginia</td>\n",
       "      <td>2018</td>\n",
       "      <td>1</td>\n",
       "      <td>White</td>\n",
       "      <td>Black or African American</td>\n",
       "      <td>Assault</td>\n",
       "      <td>Parkersburg</td>\n",
       "      <td>1</td>\n",
       "      <td>South</td>\n",
       "      <td>1.0</td>\n",
       "    </tr>\n",
       "    <tr>\n",
       "      <th>201401</th>\n",
       "      <td>West Virginia</td>\n",
       "      <td>2018</td>\n",
       "      <td>1</td>\n",
       "      <td>White</td>\n",
       "      <td>White</td>\n",
       "      <td>Intimidation</td>\n",
       "      <td>State Police:</td>\n",
       "      <td>1</td>\n",
       "      <td>South</td>\n",
       "      <td>0.0</td>\n",
       "    </tr>\n",
       "  </tbody>\n",
       "</table>\n",
       "<p>106535 rows × 10 columns</p>\n",
       "</div>"
      ],
      "text/plain": [
       "           STATE_NAME  DATA_YEAR  VICTIM_COUNT              OFFENDER_RACE  \\\n",
       "0            Arkansas       1991             1                      White   \n",
       "1            Arkansas       1991             1  Black or African American   \n",
       "2            Arkansas       1991             1  Black or African American   \n",
       "3            Arkansas       1991             2  Black or African American   \n",
       "4            Arkansas       1991             1  Black or African American   \n",
       "...               ...        ...           ...                        ...   \n",
       "201394  West Virginia       2018             1                      White   \n",
       "201395  West Virginia       2018             1                      White   \n",
       "201397  West Virginia       2018             1                      White   \n",
       "201399  West Virginia       2018             1                      White   \n",
       "201401  West Virginia       2018             1                      White   \n",
       "\n",
       "                      VICTIM_RACE       Offense PUB_AGENCY_NAME  \\\n",
       "0       Black or African American  Intimidation          Rogers   \n",
       "1                           White       Assault            Hope   \n",
       "2       Black or African American       Assault      Pine Bluff   \n",
       "3                           White       Assault      Pine Bluff   \n",
       "4                           White       Assault      Pine Bluff   \n",
       "...                           ...           ...             ...   \n",
       "201394                      White        Others      Buckhannon   \n",
       "201395                      White        Others      Buckhannon   \n",
       "201397                     Others        Others          Kenova   \n",
       "201399  Black or African American       Assault     Parkersburg   \n",
       "201401                      White  Intimidation   State Police:   \n",
       "\n",
       "        TOTAL_OFFENDER_COUNT REGION_NAME  JUVENILE_OFFENDER_COUNT  \n",
       "0                          1       South                      NaN  \n",
       "1                          1       South                      NaN  \n",
       "2                          1       South                      NaN  \n",
       "3                          1       South                      NaN  \n",
       "4                          1       South                      NaN  \n",
       "...                      ...         ...                      ...  \n",
       "201394                     1       South                      0.0  \n",
       "201395                     1       South                      0.0  \n",
       "201397                     2       South                      0.0  \n",
       "201399                     1       South                      1.0  \n",
       "201401                     1       South                      0.0  \n",
       "\n",
       "[106535 rows x 10 columns]"
      ]
     },
     "execution_count": 57,
     "metadata": {},
     "output_type": "execute_result"
    }
   ],
   "source": [
    "drop0 = new_hate[(new_hate[\"TOTAL_OFFENDER_COUNT\"] != 0) & (new_hate[\"VICTIM_COUNT\"] != 0) & \n",
    "                 (new_hate[\"OFFENDER_RACE\"] != \"Multiple\") & (new_hate[\"OFFENDER_RACE\"] != \"Unknown\")]\n",
    "drop0"
   ]
  },
  {
   "cell_type": "code",
   "execution_count": 58,
   "id": "a5b2d943",
   "metadata": {
    "scrolled": true
   },
   "outputs": [
    {
     "data": {
      "text/plain": [
       "Others                       47686\n",
       "Black or African American    39330\n",
       "White                        16272\n",
       "Asian                         3247\n",
       "Name: VICTIM_RACE, dtype: int64"
      ]
     },
     "execution_count": 58,
     "metadata": {},
     "output_type": "execute_result"
    }
   ],
   "source": [
    "drop0.VICTIM_RACE.value_counts()"
   ]
  },
  {
   "cell_type": "code",
   "execution_count": 129,
   "id": "f1f7b25e",
   "metadata": {},
   "outputs": [
    {
     "data": {
      "text/html": [
       "<div>\n",
       "<style scoped>\n",
       "    .dataframe tbody tr th:only-of-type {\n",
       "        vertical-align: middle;\n",
       "    }\n",
       "\n",
       "    .dataframe tbody tr th {\n",
       "        vertical-align: top;\n",
       "    }\n",
       "\n",
       "    .dataframe thead th {\n",
       "        text-align: right;\n",
       "    }\n",
       "</style>\n",
       "<table border=\"1\" class=\"dataframe\">\n",
       "  <thead>\n",
       "    <tr style=\"text-align: right;\">\n",
       "      <th></th>\n",
       "      <th>STATE_NAME</th>\n",
       "      <th>DATA_YEAR</th>\n",
       "      <th>VICTIM_COUNT</th>\n",
       "      <th>OFFENDER_RACE</th>\n",
       "      <th>VICTIM_RACE</th>\n",
       "      <th>Offense</th>\n",
       "      <th>PUB_AGENCY_NAME</th>\n",
       "      <th>TOTAL_OFFENDER_COUNT</th>\n",
       "      <th>REGION_NAME</th>\n",
       "      <th>JUVENILE_OFFENDER_COUNT</th>\n",
       "    </tr>\n",
       "  </thead>\n",
       "  <tbody>\n",
       "    <tr>\n",
       "      <th>17989</th>\n",
       "      <td>Texas</td>\n",
       "      <td>1993</td>\n",
       "      <td>1</td>\n",
       "      <td>White</td>\n",
       "      <td>Others</td>\n",
       "      <td>Others</td>\n",
       "      <td>Tyler</td>\n",
       "      <td>3</td>\n",
       "      <td>South</td>\n",
       "      <td>NaN</td>\n",
       "    </tr>\n",
       "    <tr>\n",
       "      <th>64147</th>\n",
       "      <td>Oregon</td>\n",
       "      <td>1999</td>\n",
       "      <td>1</td>\n",
       "      <td>White</td>\n",
       "      <td>Others</td>\n",
       "      <td>Intimidation</td>\n",
       "      <td>Portland</td>\n",
       "      <td>1</td>\n",
       "      <td>West</td>\n",
       "      <td>NaN</td>\n",
       "    </tr>\n",
       "    <tr>\n",
       "      <th>6810</th>\n",
       "      <td>Maryland</td>\n",
       "      <td>1992</td>\n",
       "      <td>1</td>\n",
       "      <td>White</td>\n",
       "      <td>Others</td>\n",
       "      <td>Assault</td>\n",
       "      <td>Montgomery County Police Department</td>\n",
       "      <td>1</td>\n",
       "      <td>South</td>\n",
       "      <td>NaN</td>\n",
       "    </tr>\n",
       "    <tr>\n",
       "      <th>181795</th>\n",
       "      <td>California</td>\n",
       "      <td>2016</td>\n",
       "      <td>1</td>\n",
       "      <td>White</td>\n",
       "      <td>Others</td>\n",
       "      <td>Assault</td>\n",
       "      <td>Simi Valley</td>\n",
       "      <td>2</td>\n",
       "      <td>West</td>\n",
       "      <td>0.0</td>\n",
       "    </tr>\n",
       "    <tr>\n",
       "      <th>142597</th>\n",
       "      <td>South Carolina</td>\n",
       "      <td>2009</td>\n",
       "      <td>1</td>\n",
       "      <td>White</td>\n",
       "      <td>Others</td>\n",
       "      <td>Assault</td>\n",
       "      <td>Chester</td>\n",
       "      <td>1</td>\n",
       "      <td>South</td>\n",
       "      <td>NaN</td>\n",
       "    </tr>\n",
       "    <tr>\n",
       "      <th>...</th>\n",
       "      <td>...</td>\n",
       "      <td>...</td>\n",
       "      <td>...</td>\n",
       "      <td>...</td>\n",
       "      <td>...</td>\n",
       "      <td>...</td>\n",
       "      <td>...</td>\n",
       "      <td>...</td>\n",
       "      <td>...</td>\n",
       "      <td>...</td>\n",
       "    </tr>\n",
       "    <tr>\n",
       "      <th>49715</th>\n",
       "      <td>Arizona</td>\n",
       "      <td>1998</td>\n",
       "      <td>1</td>\n",
       "      <td>White</td>\n",
       "      <td>Others</td>\n",
       "      <td>Assault</td>\n",
       "      <td>Phoenix</td>\n",
       "      <td>1</td>\n",
       "      <td>West</td>\n",
       "      <td>NaN</td>\n",
       "    </tr>\n",
       "    <tr>\n",
       "      <th>169979</th>\n",
       "      <td>California</td>\n",
       "      <td>2014</td>\n",
       "      <td>2</td>\n",
       "      <td>White</td>\n",
       "      <td>Others</td>\n",
       "      <td>Intimidation</td>\n",
       "      <td>San Diego</td>\n",
       "      <td>1</td>\n",
       "      <td>West</td>\n",
       "      <td>0.0</td>\n",
       "    </tr>\n",
       "    <tr>\n",
       "      <th>5740</th>\n",
       "      <td>Idaho</td>\n",
       "      <td>1992</td>\n",
       "      <td>1</td>\n",
       "      <td>White</td>\n",
       "      <td>Others</td>\n",
       "      <td>Assault</td>\n",
       "      <td>Twin Falls</td>\n",
       "      <td>1</td>\n",
       "      <td>West</td>\n",
       "      <td>NaN</td>\n",
       "    </tr>\n",
       "    <tr>\n",
       "      <th>163345</th>\n",
       "      <td>California</td>\n",
       "      <td>2013</td>\n",
       "      <td>1</td>\n",
       "      <td>Black or African American</td>\n",
       "      <td>Others</td>\n",
       "      <td>Assault</td>\n",
       "      <td>Berkeley</td>\n",
       "      <td>1</td>\n",
       "      <td>West</td>\n",
       "      <td>0.0</td>\n",
       "    </tr>\n",
       "    <tr>\n",
       "      <th>35750</th>\n",
       "      <td>Illinois</td>\n",
       "      <td>1996</td>\n",
       "      <td>1</td>\n",
       "      <td>White</td>\n",
       "      <td>Others</td>\n",
       "      <td>Property</td>\n",
       "      <td>Beardstown</td>\n",
       "      <td>2</td>\n",
       "      <td>Midwest</td>\n",
       "      <td>NaN</td>\n",
       "    </tr>\n",
       "  </tbody>\n",
       "</table>\n",
       "<p>20000 rows × 10 columns</p>\n",
       "</div>"
      ],
      "text/plain": [
       "            STATE_NAME  DATA_YEAR  VICTIM_COUNT              OFFENDER_RACE  \\\n",
       "17989            Texas       1993             1                      White   \n",
       "64147           Oregon       1999             1                      White   \n",
       "6810          Maryland       1992             1                      White   \n",
       "181795      California       2016             1                      White   \n",
       "142597  South Carolina       2009             1                      White   \n",
       "...                ...        ...           ...                        ...   \n",
       "49715          Arizona       1998             1                      White   \n",
       "169979      California       2014             2                      White   \n",
       "5740             Idaho       1992             1                      White   \n",
       "163345      California       2013             1  Black or African American   \n",
       "35750         Illinois       1996             1                      White   \n",
       "\n",
       "       VICTIM_RACE       Offense                      PUB_AGENCY_NAME  \\\n",
       "17989       Others        Others                                Tyler   \n",
       "64147       Others  Intimidation                             Portland   \n",
       "6810        Others       Assault  Montgomery County Police Department   \n",
       "181795      Others       Assault                          Simi Valley   \n",
       "142597      Others       Assault                              Chester   \n",
       "...            ...           ...                                  ...   \n",
       "49715       Others       Assault                              Phoenix   \n",
       "169979      Others  Intimidation                            San Diego   \n",
       "5740        Others       Assault                           Twin Falls   \n",
       "163345      Others       Assault                             Berkeley   \n",
       "35750       Others      Property                           Beardstown   \n",
       "\n",
       "        TOTAL_OFFENDER_COUNT REGION_NAME  JUVENILE_OFFENDER_COUNT  \n",
       "17989                      3       South                      NaN  \n",
       "64147                      1        West                      NaN  \n",
       "6810                       1       South                      NaN  \n",
       "181795                     2        West                      0.0  \n",
       "142597                     1       South                      NaN  \n",
       "...                      ...         ...                      ...  \n",
       "49715                      1        West                      NaN  \n",
       "169979                     1        West                      0.0  \n",
       "5740                       1        West                      NaN  \n",
       "163345                     1        West                      0.0  \n",
       "35750                      2     Midwest                      NaN  \n",
       "\n",
       "[20000 rows x 10 columns]"
      ]
     },
     "execution_count": 129,
     "metadata": {},
     "output_type": "execute_result"
    }
   ],
   "source": [
    "drop_df = drop0[((drop0.VICTIM_RACE == \"Others\") & (drop0.DATA_YEAR != 2001)) | \n",
    "      ((drop0.OFFENDER_RACE == \"Others\") & (drop0.DATA_YEAR != 2001))].sample(20000,replace=False,random_state=30)\n",
    "drop_df"
   ]
  },
  {
   "cell_type": "code",
   "execution_count": 130,
   "id": "b86022bf",
   "metadata": {
    "scrolled": true
   },
   "outputs": [],
   "source": [
    "drop_some_others = drop0.drop(\n",
    "    axis=1, index=drop_df.index)"
   ]
  },
  {
   "cell_type": "code",
   "execution_count": 131,
   "id": "07e9e573",
   "metadata": {},
   "outputs": [
    {
     "data": {
      "text/html": [
       "<div>\n",
       "<style scoped>\n",
       "    .dataframe tbody tr th:only-of-type {\n",
       "        vertical-align: middle;\n",
       "    }\n",
       "\n",
       "    .dataframe tbody tr th {\n",
       "        vertical-align: top;\n",
       "    }\n",
       "\n",
       "    .dataframe thead th {\n",
       "        text-align: right;\n",
       "    }\n",
       "</style>\n",
       "<table border=\"1\" class=\"dataframe\">\n",
       "  <thead>\n",
       "    <tr style=\"text-align: right;\">\n",
       "      <th></th>\n",
       "      <th>STATE_NAME</th>\n",
       "      <th>DATA_YEAR</th>\n",
       "      <th>VICTIM_COUNT</th>\n",
       "      <th>OFFENDER_RACE</th>\n",
       "      <th>VICTIM_RACE</th>\n",
       "      <th>Offense</th>\n",
       "      <th>PUB_AGENCY_NAME</th>\n",
       "      <th>TOTAL_OFFENDER_COUNT</th>\n",
       "      <th>REGION_NAME</th>\n",
       "      <th>JUVENILE_OFFENDER_COUNT</th>\n",
       "    </tr>\n",
       "  </thead>\n",
       "  <tbody>\n",
       "    <tr>\n",
       "      <th>0</th>\n",
       "      <td>Massachusetts</td>\n",
       "      <td>1998</td>\n",
       "      <td>1</td>\n",
       "      <td>Black or African American</td>\n",
       "      <td>White</td>\n",
       "      <td>Intimidation</td>\n",
       "      <td>Boston</td>\n",
       "      <td>1</td>\n",
       "      <td>Northeast</td>\n",
       "      <td>NaN</td>\n",
       "    </tr>\n",
       "    <tr>\n",
       "      <th>1</th>\n",
       "      <td>Washington</td>\n",
       "      <td>1994</td>\n",
       "      <td>2</td>\n",
       "      <td>White</td>\n",
       "      <td>Asian</td>\n",
       "      <td>Property</td>\n",
       "      <td>Pierce</td>\n",
       "      <td>2</td>\n",
       "      <td>West</td>\n",
       "      <td>NaN</td>\n",
       "    </tr>\n",
       "    <tr>\n",
       "      <th>2</th>\n",
       "      <td>Minnesota</td>\n",
       "      <td>2013</td>\n",
       "      <td>1</td>\n",
       "      <td>Black or African American</td>\n",
       "      <td>White</td>\n",
       "      <td>Assault</td>\n",
       "      <td>St. Paul</td>\n",
       "      <td>1</td>\n",
       "      <td>Midwest</td>\n",
       "      <td>0.0</td>\n",
       "    </tr>\n",
       "    <tr>\n",
       "      <th>3</th>\n",
       "      <td>Massachusetts</td>\n",
       "      <td>1993</td>\n",
       "      <td>1</td>\n",
       "      <td>White</td>\n",
       "      <td>Asian</td>\n",
       "      <td>Others</td>\n",
       "      <td>Fall River</td>\n",
       "      <td>1</td>\n",
       "      <td>Northeast</td>\n",
       "      <td>NaN</td>\n",
       "    </tr>\n",
       "    <tr>\n",
       "      <th>4</th>\n",
       "      <td>California</td>\n",
       "      <td>2003</td>\n",
       "      <td>1</td>\n",
       "      <td>White</td>\n",
       "      <td>Black or African American</td>\n",
       "      <td>Intimidation</td>\n",
       "      <td>Riverside</td>\n",
       "      <td>1</td>\n",
       "      <td>West</td>\n",
       "      <td>NaN</td>\n",
       "    </tr>\n",
       "    <tr>\n",
       "      <th>...</th>\n",
       "      <td>...</td>\n",
       "      <td>...</td>\n",
       "      <td>...</td>\n",
       "      <td>...</td>\n",
       "      <td>...</td>\n",
       "      <td>...</td>\n",
       "      <td>...</td>\n",
       "      <td>...</td>\n",
       "      <td>...</td>\n",
       "      <td>...</td>\n",
       "    </tr>\n",
       "    <tr>\n",
       "      <th>20135</th>\n",
       "      <td>Florida</td>\n",
       "      <td>1993</td>\n",
       "      <td>1</td>\n",
       "      <td>White</td>\n",
       "      <td>Black or African American</td>\n",
       "      <td>Assault</td>\n",
       "      <td>St. Johns</td>\n",
       "      <td>1</td>\n",
       "      <td>South</td>\n",
       "      <td>NaN</td>\n",
       "    </tr>\n",
       "    <tr>\n",
       "      <th>20136</th>\n",
       "      <td>Colorado</td>\n",
       "      <td>2003</td>\n",
       "      <td>1</td>\n",
       "      <td>White</td>\n",
       "      <td>Black or African American</td>\n",
       "      <td>Intimidation</td>\n",
       "      <td>Lakewood</td>\n",
       "      <td>1</td>\n",
       "      <td>West</td>\n",
       "      <td>NaN</td>\n",
       "    </tr>\n",
       "    <tr>\n",
       "      <th>20137</th>\n",
       "      <td>California</td>\n",
       "      <td>1997</td>\n",
       "      <td>1</td>\n",
       "      <td>White</td>\n",
       "      <td>Others</td>\n",
       "      <td>Assault</td>\n",
       "      <td>Vacaville</td>\n",
       "      <td>1</td>\n",
       "      <td>West</td>\n",
       "      <td>NaN</td>\n",
       "    </tr>\n",
       "    <tr>\n",
       "      <th>20138</th>\n",
       "      <td>California</td>\n",
       "      <td>1998</td>\n",
       "      <td>1</td>\n",
       "      <td>White</td>\n",
       "      <td>Asian</td>\n",
       "      <td>Intimidation</td>\n",
       "      <td>Los Angeles</td>\n",
       "      <td>1</td>\n",
       "      <td>West</td>\n",
       "      <td>NaN</td>\n",
       "    </tr>\n",
       "    <tr>\n",
       "      <th>20139</th>\n",
       "      <td>Colorado</td>\n",
       "      <td>1993</td>\n",
       "      <td>2</td>\n",
       "      <td>Black or African American</td>\n",
       "      <td>White</td>\n",
       "      <td>Assault</td>\n",
       "      <td>Denver</td>\n",
       "      <td>2</td>\n",
       "      <td>West</td>\n",
       "      <td>NaN</td>\n",
       "    </tr>\n",
       "  </tbody>\n",
       "</table>\n",
       "<p>20140 rows × 10 columns</p>\n",
       "</div>"
      ],
      "text/plain": [
       "          STATE_NAME  DATA_YEAR  VICTIM_COUNT              OFFENDER_RACE  \\\n",
       "0      Massachusetts       1998             1  Black or African American   \n",
       "1         Washington       1994             2                      White   \n",
       "2          Minnesota       2013             1  Black or African American   \n",
       "3      Massachusetts       1993             1                      White   \n",
       "4         California       2003             1                      White   \n",
       "...              ...        ...           ...                        ...   \n",
       "20135        Florida       1993             1                      White   \n",
       "20136       Colorado       2003             1                      White   \n",
       "20137     California       1997             1                      White   \n",
       "20138     California       1998             1                      White   \n",
       "20139       Colorado       1993             2  Black or African American   \n",
       "\n",
       "                     VICTIM_RACE       Offense PUB_AGENCY_NAME  \\\n",
       "0                          White  Intimidation          Boston   \n",
       "1                          Asian      Property          Pierce   \n",
       "2                          White       Assault        St. Paul   \n",
       "3                          Asian        Others      Fall River   \n",
       "4      Black or African American  Intimidation       Riverside   \n",
       "...                          ...           ...             ...   \n",
       "20135  Black or African American       Assault       St. Johns   \n",
       "20136  Black or African American  Intimidation        Lakewood   \n",
       "20137                     Others       Assault       Vacaville   \n",
       "20138                      Asian  Intimidation     Los Angeles   \n",
       "20139                      White       Assault          Denver   \n",
       "\n",
       "       TOTAL_OFFENDER_COUNT REGION_NAME  JUVENILE_OFFENDER_COUNT  \n",
       "0                         1   Northeast                      NaN  \n",
       "1                         2        West                      NaN  \n",
       "2                         1     Midwest                      0.0  \n",
       "3                         1   Northeast                      NaN  \n",
       "4                         1        West                      NaN  \n",
       "...                     ...         ...                      ...  \n",
       "20135                     1       South                      NaN  \n",
       "20136                     1        West                      NaN  \n",
       "20137                     1        West                      NaN  \n",
       "20138                     1        West                      NaN  \n",
       "20139                     2        West                      NaN  \n",
       "\n",
       "[20140 rows x 10 columns]"
      ]
     },
     "execution_count": 131,
     "metadata": {},
     "output_type": "execute_result"
    }
   ],
   "source": [
    "rename_col = drop_some_others.sample(n=int(original_hate.shape[0]/10), replace=False, ignore_index=True, \n",
    "                                     random_state=20)\n",
    "rename_col"
   ]
  },
  {
   "cell_type": "code",
   "execution_count": 132,
   "id": "515619e8",
   "metadata": {},
   "outputs": [],
   "source": [
    "final_hate = rename_col.rename(columns={\"STATE_NAME\":\"State\", \"DATA_YEAR\": \"Year\", \"VICTIM_COUNT\": \"Victim_count\", \n",
    "                           \"OFFENDER_RACE\": \"Offender_race\", \"PUB_AGENCY_NAME\": \"City\", \n",
    "                           \"TOTAL_OFFENDER_COUNT\": \"Offender_count\", \"REGION_NAME\": \"Region\",\n",
    "                           \"JUVENILE_OFFENDER_COUNT\": \"Juvenile_Offeneder_Count\", \"VICTIM_RACE\": \"Victim_race\"})"
   ]
  },
  {
   "cell_type": "code",
   "execution_count": 133,
   "id": "0c74b34d",
   "metadata": {},
   "outputs": [],
   "source": [
    "final_hate.to_csv(\"subset_hate.csv\")"
   ]
  },
  {
   "cell_type": "code",
   "execution_count": 134,
   "id": "5be8caff",
   "metadata": {},
   "outputs": [
    {
     "data": {
      "text/plain": [
       "<AxesSubplot:xlabel='Year'>"
      ]
     },
     "execution_count": 134,
     "metadata": {},
     "output_type": "execute_result"
    },
    {
     "data": {
      "image/png": "[encoded data removed]",
      "text/plain": [
       "<Figure size 432x288 with 1 Axes>"
      ]
     },
     "metadata": {
      "needs_background": "light"
     },
     "output_type": "display_data"
    }
   ],
   "source": [
    "final_hate.groupby(\"Year\").size().plot.line()"
   ]
  },
  {
   "cell_type": "code",
   "execution_count": 135,
   "id": "78d2fb56",
   "metadata": {},
   "outputs": [
    {
     "data": {
      "text/plain": [
       "<AxesSubplot:xlabel='DATA_YEAR'>"
      ]
     },
     "execution_count": 135,
     "metadata": {},
     "output_type": "execute_result"
    },
    {
     "data": {
      "image/png": "[encoded data removed]",
      "text/plain": [
       "<Figure size 432x288 with 1 Axes>"
      ]
     },
     "metadata": {
      "needs_background": "light"
     },
     "output_type": "display_data"
    }
   ],
   "source": [
    "original_hate.groupby(\"DATA_YEAR\").size().plot.line()"
   ]
  },
  {
   "cell_type": "code",
   "execution_count": 136,
   "id": "c6fe017c",
   "metadata": {},
   "outputs": [
    {
     "data": {
      "text/plain": [
       "<AxesSubplot:>"
      ]
     },
     "execution_count": 136,
     "metadata": {},
     "output_type": "execute_result"
    },
    {
     "data": {
      "image/png": "[encoded data removed]",
      "text/plain": [
       "<Figure size 432x288 with 1 Axes>"
      ]
     },
     "metadata": {
      "needs_background": "light"
     },
     "output_type": "display_data"
    }
   ],
   "source": [
    "offense_race = original_hate.OFFENDER_RACE.value_counts()\n",
    "offense_race.plot(kind=\"bar\")"
   ]
  },
  {
   "cell_type": "code",
   "execution_count": 138,
   "id": "3096f111",
   "metadata": {
    "scrolled": false
   },
   "outputs": [
    {
     "data": {
      "text/plain": [
       "<AxesSubplot:>"
      ]
     },
     "execution_count": 138,
     "metadata": {},
     "output_type": "execute_result"
    },
    {
     "data": {
      "image/png": "[encoded data removed]",
      "text/plain": [
       "<Figure size 432x288 with 1 Axes>"
      ]
     },
     "metadata": {
      "needs_background": "light"
     },
     "output_type": "display_data"
    }
   ],
   "source": [
    "victims_race = original_hate.VICTIM_RACE.value_counts()\n",
    "victims_race.plot(kind=\"bar\")"
   ]
  },
  {
   "cell_type": "code",
   "execution_count": 139,
   "id": "fe63b5d0",
   "metadata": {},
   "outputs": [
    {
     "data": {
      "text/plain": [
       "<AxesSubplot:>"
      ]
     },
     "execution_count": 139,
     "metadata": {},
     "output_type": "execute_result"
    },
    {
     "data": {
      "image/png": "[encoded data removed]",
      "text/plain": [
       "<Figure size 432x288 with 1 Axes>"
      ]
     },
     "metadata": {
      "needs_background": "light"
     },
     "output_type": "display_data"
    }
   ],
   "source": [
    "final_hate.Victim_race.value_counts().plot(kind=\"bar\")"
   ]
  },
  {
   "cell_type": "code",
   "execution_count": 140,
   "id": "ca0e0808",
   "metadata": {
    "scrolled": true
   },
   "outputs": [
    {
     "data": {
      "text/plain": [
       "<AxesSubplot:>"
      ]
     },
     "execution_count": 140,
     "metadata": {},
     "output_type": "execute_result"
    },
    {
     "data": {
      "image/png": "[encoded data removed]",
      "text/plain": [
       "<Figure size 432x288 with 1 Axes>"
      ]
     },
     "metadata": {
      "needs_background": "light"
     },
     "output_type": "display_data"
    }
   ],
   "source": [
    "final_hate.Offender_race.value_counts().plot(kind=\"bar\")"
   ]
  },
  {
   "cell_type": "code",
   "execution_count": 178,
   "id": "18bbdeb2",
   "metadata": {},
   "outputs": [
    {
     "data": {
      "text/plain": [
       "<AxesSubplot:xlabel='VICTIM_RACE'>"
      ]
     },
     "execution_count": 178,
     "metadata": {},
     "output_type": "execute_result"
    },
    {
     "data": {
      "image/png": "[encoded data removed]",
      "text/plain": [
       "<Figure size 432x288 with 1 Axes>"
      ]
     },
     "metadata": {
      "needs_background": "light"
     },
     "output_type": "display_data"
    }
   ],
   "source": [
    "stacked_df = original_hate.groupby([\"VICTIM_RACE\", \"Offense\"]).size().reset_index()\n",
    "stacked_df.pivot_table(values=0, index=\"VICTIM_RACE\", columns='Offense', \n",
    "                       aggfunc='first').plot(kind = \"bar\", stacked=True)"
   ]
  },
  {
   "cell_type": "code",
   "execution_count": 179,
   "id": "18c1bda3",
   "metadata": {},
   "outputs": [
    {
     "data": {
      "text/plain": [
       "<AxesSubplot:xlabel='Victim_race'>"
      ]
     },
     "execution_count": 179,
     "metadata": {},
     "output_type": "execute_result"
    },
    {
     "data": {
      "image/png": "[encoded data removed]",
      "text/plain": [
       "<Figure size 432x288 with 1 Axes>"
      ]
     },
     "metadata": {
      "needs_background": "light"
     },
     "output_type": "display_data"
    }
   ],
   "source": [
    "final_hate.groupby([\"Victim_race\", \"Offense\"]).size().reset_index().pivot_table(values=0, index=\"Victim_race\", columns='Offense', \n",
    "                       aggfunc='first').plot(kind = \"bar\", stacked=True)"
   ]
  },
  {
   "cell_type": "code",
   "execution_count": null,
   "id": "24fc8ae7",
   "metadata": {},
   "outputs": [],
   "source": []
  },
  {
   "cell_type": "markdown",
   "id": "b4f0f630",
   "metadata": {},
   "source": [
    "Victims race\n",
    "Offense type\n",
    "Offense race"
   ]
  }
 ],
 "metadata": {
  "kernelspec": {
   "display_name": "Python 3 (ipykernel)",
   "language": "python",
   "name": "python3"
  },
  "language_info": {
   "codemirror_mode": {
    "name": "ipython",
    "version": 3
   },
   "file_extension": ".py",
   "mimetype": "text/x-python",
   "name": "python",
   "nbconvert_exporter": "python",
   "pygments_lexer": "ipython3",
   "version": "3.9.7"
  }
 },
 "nbformat": 4,
 "nbformat_minor": 5
}
