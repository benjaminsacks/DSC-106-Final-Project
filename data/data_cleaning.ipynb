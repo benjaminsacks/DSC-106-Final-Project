{
 "cells": [
  {
   "cell_type": "code",
   "execution_count": 2,
   "id": "5f3a92b6-acdd-4e48-a7f4-93fa36f9eb1e",
   "metadata": {},
   "outputs": [],
   "source": [
    "import numpy as np\n",
    "import pandas as pd"
   ]
  },
  {
   "cell_type": "code",
   "execution_count": 3,
   "id": "34ae87a4-6441-41cc-b35b-71067b96c52e",
   "metadata": {},
   "outputs": [],
   "source": [
    "crimes = pd.read_csv(\"hate_crime.csv\", low_memory=False)"
   ]
  },
  {
   "cell_type": "markdown",
   "id": "4e447aaa-d3a7-451c-b045-fbf401c2344f",
   "metadata": {},
   "source": [
    "## Explore the trend of frequency of hate crimes since 1991 (Line Plot)"
   ]
  },
  {
   "cell_type": "markdown",
   "id": "a988980a-fb25-4ec7-8039-1613874e5642",
   "metadata": {},
   "source": [
    "### Plot 1: Hate Crimes over the years"
   ]
  },
  {
   "cell_type": "markdown",
   "id": "469fc1c9-5fc1-4b15-8716-3834609112af",
   "metadata": {},
   "source": [
    "For our first plot in the question, we want to "
   ]
  },
  {
   "cell_type": "code",
   "execution_count": 7,
   "id": "f14567a9-fe2b-47a9-9d76-9790e2715433",
   "metadata": {},
   "outputs": [
    {
     "data": {
      "text/html": [
       "<div>\n",
       "<style scoped>\n",
       "    .dataframe tbody tr th:only-of-type {\n",
       "        vertical-align: middle;\n",
       "    }\n",
       "\n",
       "    .dataframe tbody tr th {\n",
       "        vertical-align: top;\n",
       "    }\n",
       "\n",
       "    .dataframe thead th {\n",
       "        text-align: right;\n",
       "    }\n",
       "</style>\n",
       "<table border=\"1\" class=\"dataframe\">\n",
       "  <thead>\n",
       "    <tr style=\"text-align: right;\">\n",
       "      <th></th>\n",
       "      <th>count</th>\n",
       "    </tr>\n",
       "    <tr>\n",
       "      <th>year</th>\n",
       "      <th></th>\n",
       "    </tr>\n",
       "  </thead>\n",
       "  <tbody>\n",
       "    <tr>\n",
       "      <th>1991</th>\n",
       "      <td>4589</td>\n",
       "    </tr>\n",
       "    <tr>\n",
       "      <th>1992</th>\n",
       "      <td>6667</td>\n",
       "    </tr>\n",
       "    <tr>\n",
       "      <th>1993</th>\n",
       "      <td>7608</td>\n",
       "    </tr>\n",
       "    <tr>\n",
       "      <th>1994</th>\n",
       "      <td>5954</td>\n",
       "    </tr>\n",
       "    <tr>\n",
       "      <th>1995</th>\n",
       "      <td>7950</td>\n",
       "    </tr>\n",
       "  </tbody>\n",
       "</table>\n",
       "</div>"
      ],
      "text/plain": [
       "      count\n",
       "year       \n",
       "1991   4589\n",
       "1992   6667\n",
       "1993   7608\n",
       "1994   5954\n",
       "1995   7950"
      ]
     },
     "execution_count": 7,
     "metadata": {},
     "output_type": "execute_result"
    }
   ],
   "source": [
    "crimes_per_year = (crimes['DATA_YEAR']\n",
    "                   .value_counts()\n",
    "                   .sort_index()\n",
    "                   .reset_index()\n",
    "                   .rename(columns={'index': 'year', 'DATA_YEAR': 'count'})\n",
    "                   .set_index('year'))\n",
    "crimes_per_year.head()"
   ]
  },
  {
   "cell_type": "code",
   "execution_count": 8,
   "id": "02fa1188-8591-487e-a645-c6ac990f1240",
   "metadata": {},
   "outputs": [
    {
     "data": {
      "text/plain": [
       "<AxesSubplot:xlabel='year'>"
      ]
     },
     "execution_count": 8,
     "metadata": {},
     "output_type": "execute_result"
    },
    {
     "data": {
      "image/png": "[encoded data removed]",
      "text/plain": [
       "<Figure size 432x288 with 1 Axes>"
      ]
     },
     "metadata": {
      "needs_background": "light"
     },
     "output_type": "display_data"
    }
   ],
   "source": [
    "crimes_per_year.plot()"
   ]
  },
  {
   "cell_type": "code",
   "execution_count": 9,
   "id": "b99301a6-2f41-4943-995a-0e73326b66b0",
   "metadata": {},
   "outputs": [],
   "source": [
    "crimes_per_year.to_csv('q1_1.csv')"
   ]
  },
  {
   "cell_type": "markdown",
   "id": "7a9e1924-1816-4085-a07d-fb1f6e5a8f79",
   "metadata": {},
   "source": [
    "### Extracting Victim Group (Race/Religion/Orientation/etc.)"
   ]
  },
  {
   "cell_type": "code",
   "execution_count": 3,
   "id": "1def3049-4461-4c86-a1af-e700810d072b",
   "metadata": {},
   "outputs": [
    {
     "data": {
      "text/plain": [
       "Anti-Black or African American                                 69056\n",
       "Anti-Jewish                                                    26109\n",
       "Anti-White                                                     23345\n",
       "Anti-Gay (Male)                                                20316\n",
       "Anti-Hispanic or Latino                                        12837\n",
       "                                                               ...  \n",
       "Anti-Jewish;Anti-Lesbian (Female)                                  1\n",
       "Anti-Other Religion;Anti-White                                     1\n",
       "Anti-American Indian or Alaska Native;Anti-Islamic (Muslim)        1\n",
       "Anti-Other Race/Ethnicity/Ancestry;Anti-Other Religion             1\n",
       "Anti-Black or African American;Anti-Other Religion                 1\n",
       "Name: BIAS_DESC, Length: 144, dtype: int64"
      ]
     },
     "execution_count": 3,
     "metadata": {},
     "output_type": "execute_result"
    }
   ],
   "source": [
    "crimes['BIAS_DESC'].value_counts()"
   ]
  },
  {
   "cell_type": "markdown",
   "id": "25955f8c-e47e-4f99-a51b-8e69d175934f",
   "metadata": {},
   "source": [
    "Most common biases are against one race/religion/orientation. Lesser common biases are against groups of these attributes."
   ]
  },
  {
   "cell_type": "code",
   "execution_count": 4,
   "id": "ed504086-8f42-42f3-81fc-34ce6149cde6",
   "metadata": {},
   "outputs": [
    {
     "data": {
      "text/plain": [
       "Anti-Islamic (Muslim)                                                              3606\n",
       "Anti-Black or African American;Anti-Islamic (Muslim)                                  7\n",
       "Anti-Arab;Anti-Islamic (Muslim)                                                       4\n",
       "Anti-Islamic (Muslim);Anti-Multiple Races, Group                                      2\n",
       "Anti-Islamic (Muslim);Anti-Jewish                                                     2\n",
       "Anti-Islamic (Muslim);Anti-Other Religion                                             1\n",
       "Anti-American Indian or Alaska Native;Anti-Islamic (Muslim)                           1\n",
       "Anti-Gay (Male);Anti-Islamic (Muslim)                                                 1\n",
       "Anti-Asian;Anti-Islamic (Muslim)                                                      1\n",
       "Anti-Arab;Anti-Hispanic or Latino;Anti-Islamic (Muslim)                               1\n",
       "Anti-Arab;Anti-Black or African American;Anti-Islamic (Muslim)                        1\n",
       "Anti-Islamic (Muslim);Anti-Lesbian, Gay, Bisexual, or Transgender (Mixed Group)       1\n",
       "Name: BIAS_DESC, dtype: int64"
      ]
     },
     "execution_count": 4,
     "metadata": {},
     "output_type": "execute_result"
    }
   ],
   "source": [
    "# Value counts of 'BIAS_DESC', if contains 'Islamic'\n",
    "crimes[crimes['BIAS_DESC'].str.contains('Islamic')]['BIAS_DESC'].value_counts()"
   ]
  },
  {
   "cell_type": "markdown",
   "id": "1d77eecb-c0dc-49f9-b4b9-5c2c1bfec22a",
   "metadata": {},
   "source": [
    "Groups of biases are listed in alphabetical order, so there is no real priority for the first bias in a group. Thus, we cannot generalize a group of biases by the first one in the group."
   ]
  },
  {
   "cell_type": "code",
   "execution_count": 5,
   "id": "0997a6d6-ad6d-4000-ba4c-9b69b8df821e",
   "metadata": {},
   "outputs": [
    {
     "name": "stdout",
     "output_type": "stream",
     "text": [
      "Number of rows containing groups of biases: 359\n",
      "Total number of rows: 201403\n"
     ]
    }
   ],
   "source": [
    "print('Number of rows containing groups of biases: ' + \n",
    "      str(len(crimes[crimes['BIAS_DESC'].str.contains(';')])) + \n",
    "      '\\nTotal number of rows: ' + \n",
    "      str(len(crimes)))"
   ]
  },
  {
   "cell_type": "markdown",
   "id": "8c2b4757-e4b4-4a00-8725-bfca0d18df14",
   "metadata": {},
   "source": [
    "Since so few rows contain groups of biases, we are going to exclude them from analysis."
   ]
  },
  {
   "cell_type": "code",
   "execution_count": 6,
   "id": "12b2aa20-1af0-4387-b1df-cac18c972ce1",
   "metadata": {},
   "outputs": [
    {
     "name": "stdout",
     "output_type": "stream",
     "text": [
      "New length of `crimes`: 201044\n"
     ]
    }
   ],
   "source": [
    "crimes = crimes[crimes['BIAS_DESC'].str.contains(';') == False]\n",
    "print('New length of `crimes`: ' + str(len(crimes)))"
   ]
  },
  {
   "cell_type": "markdown",
   "id": "bece5665-ff09-47e3-9e59-9137710a2ce6",
   "metadata": {},
   "source": [
    "Now that we have removed groups from `BIAS_DESC`, we can extract the bias of the victim for later analysis in d3."
   ]
  },
  {
   "cell_type": "code",
   "execution_count": 8,
   "id": "af636d93-36d8-4d38-8182-09d1e025422f",
   "metadata": {},
   "outputs": [
    {
     "data": {
      "text/plain": [
       "Black or African American                               69056\n",
       "Jewish                                                  26109\n",
       "White                                                   23345\n",
       "Gay (Male)                                              20316\n",
       "Hispanic or Latino                                      12837\n",
       "Other Race/Ethnicity/Ancestry                           10101\n",
       "Lesbian, Gay, Bisexual, or Transgender (Mixed Group)     6077\n",
       "Asian                                                    5913\n",
       "Multiple Races, Group                                    4854\n",
       "Lesbian (Female)                                         4266\n",
       "Name: VICTIM_GROUP, dtype: int64"
      ]
     },
     "execution_count": 8,
     "metadata": {},
     "output_type": "execute_result"
    }
   ],
   "source": [
    "crimes['VICTIM_GROUP'] = crimes['BIAS_DESC'].str.split(\"-\").str[1]\n",
    "crimes['VICTIM_GROUP'].value_counts().head(10)"
   ]
  },
  {
   "cell_type": "code",
   "execution_count": null,
   "id": "ae024d3c-fafd-482f-9caa-5e5d7d54717f",
   "metadata": {},
   "outputs": [],
   "source": []
  }
 ],
 "metadata": {
  "kernelspec": {
   "display_name": "Python 3",
   "language": "python",
   "name": "python3"
  },
  "language_info": {
   "codemirror_mode": {
    "name": "ipython",
    "version": 3
   },
   "file_extension": ".py",
   "mimetype": "text/x-python",
   "name": "python",
   "nbconvert_exporter": "python",
   "pygments_lexer": "ipython3",
   "version": "3.9.0"
  }
 },
 "nbformat": 4,
 "nbformat_minor": 5
}
